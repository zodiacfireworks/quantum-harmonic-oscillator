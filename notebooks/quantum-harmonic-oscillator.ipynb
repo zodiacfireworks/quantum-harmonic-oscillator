{
 "cells": [
  {
   "cell_type": "markdown",
   "metadata": {},
   "source": [
    "<div class=\"clearfix\" style=\"padding: 10px; padding-left: 0px\">\n",
    "<img src=\"resources/img/softbutterfly-logo.png\" class=\"pull-left\" style=\"display: block; height: 40px; margin: 0;\"><img src=\"resources/img/jupyter-logo.png\" class=\"pull-right\"  style=\"display: block; height: 20px; margin-top: 10px;\">\n",
    "</div>"
   ]
  },
  {
   "cell_type": "markdown",
   "metadata": {},
   "source": [
    "<h1 style=\"text-align:center\">El Oscilador Armónico en Mecánica Cuántica</h1>"
   ]
  },
  {
   "cell_type": "markdown",
   "metadata": {},
   "source": [
    "<div style=\"text-align:center\">\n",
    "<strong>Martín Josemaría Vuelta Rojas</strong><br/>\n",
    "<code><a href=\"https://github.com/zodiacfireworks\" target=\"_blank\">@zodiacfireworks</a></code><br/>\n",
    "<br/>\n",
    "<em>Universidad Nacional Mayor de San Marcos</em><br/>\n",
    "<span>Facultad de Ciencias Físicas</span><br>\n",
    "<br>\n",
    "<i>SoftButterfly</i><br>\n",
    "<span>Cofundador y Líder del Área de Desarrollo</span>\n",
    "</div>"
   ]
  },
  {
   "cell_type": "markdown",
   "metadata": {},
   "source": [
    "<p style=\"text-align:center\">\n",
    "<strong>Resumen</strong>\n",
    "</p>"
   ]
  },
  {
   "cell_type": "markdown",
   "metadata": {},
   "source": [
    "<p style=\"text-align:justify\">\n",
    "En muchos problemas de la Física se está interesado en analizar situaciones en las cua-les el sistema está levemente fuera del equilibrio. En estos casos el problema, general-mente, se puede describir como un conjunto de osciladores independientes. Esta forma de proceder es válida tanto en la Mecánica Clásica  como en la Mecánica Cuántica, y es el formalismo que debe usarse para estudiar las oscilaciones de núcleos, moléculas y sólidos. En el presente documento presentamos un tratamiento detallado para el problema del oscilador armónico cuántico presentándose su solución analítica así como una implementación directa, en lenguaje C++, de las autofunciones obtenidas. Los resultados que se obtienen son básicamente los gráficos correspondientes a las autofunciones y a las densidades de probabilidad para algunos niveles de energía.\n",
    "</p>"
   ]
  },
  {
   "cell_type": "markdown",
   "metadata": {},
   "source": [
    "<p>\n",
    "<em><strong>Frases y palabras clave:</strong> Mecánica Cuántica, Oscilador Armónico, Polinomios de Hermite.</em>\n",
    "</p>"
   ]
  },
  {
   "cell_type": "markdown",
   "metadata": {},
   "source": [
    "## 1 El oscilador Armónico en Mecánica Clásica"
   ]
  },
  {
   "cell_type": "markdown",
   "metadata": {},
   "source": [
    "<p style=\"text-align:justify\">Un sistema de gran importancia en la Física es el oscilador armónico u oscilador lineal cuya ecuación es\n",
    "</p>"
   ]
  },
  {
   "cell_type": "markdown",
   "metadata": {},
   "source": [
    "<p>\n",
    "<span id=\"ec001\" style=\"float:right;\">(1)</span>\n",
    "$$\n",
    "m\\,\\ddot{\\textbf{x}}=-k\\,\\textbf{x},\n",
    "$$\n",
    "</p>"
   ]
  },
  {
   "cell_type": "markdown",
   "metadata": {},
   "source": [
    "<p style=\"text-align:justify\">\n",
    "donde el término $-k\\,\\textbf{x}$ representa la fuerza restauradora en la oscilación. Generalmente se visualiza el modelo del oscilador lineal como el de un cuerpo de masa $m$ sujeto por un resorte _ideal_ de contante elástica $k$ de modo que el desplazamiento del cuerpo en las vecindades de su punto de equilibrio (P.E.) genera un movimiento oscilatorio cuya ecuación de movimiento viene a ser la <em>ec.</em> (<a style=\"text-decoration:none;\" href=\"#ec001\">1</a>). Este modelo es el que se muestra en la <em>fig.</em> (<a style=\"text-decoration:none;\" href=\"#fig001\">1</a>).\n",
    "</p>"
   ]
  },
  {
   "cell_type": "markdown",
   "metadata": {},
   "source": [
    "<center>\n",
    "    <figure>\n",
    "        <img id=\"fig001\" style=\"width:50%\" src=\"./resources/img/fig001.png\" alt=\"Esquema típico de representación de un sistema tipo oscilador lineal.\"/>\n",
    "        <caption><strong>Figura 1.</strong> Esquema típico de representación de un sistema tipo oscilador lineal.</caption>\n",
    "    </figure>\n",
    "</center>"
   ]
  },
  {
   "cell_type": "markdown",
   "metadata": {},
   "source": [
    "<p style=\"text-align:justify\">\n",
    "Un método clásico de solución para la <em>ec.</em> (<a style=\"text-decoration:none;\" href=\"#ec001\">1</a>) es el que se muestra a continuación. Considérmos en primer lugar la introducción del parámetro $\\omega$, definido como\n",
    "</p>"
   ]
  },
  {
   "cell_type": "markdown",
   "metadata": {},
   "source": [
    "<p>\n",
    "<span id=\"ec002\" style=\"float:right;\">(2)</span>\n",
    "$$\n",
    "\\omega=\\sqrt{\\frac{k}{m}},\n",
    "$$\n",
    "</p>"
   ]
  },
  {
   "cell_type": "markdown",
   "metadata": {},
   "source": [
    "<p style=\"text-align:justify\">\n",
    "en la <em>ec.</em> (<a style=\"text-decoration:none;\" href=\"#ec001\">1</a>) con lo cual esta puede expresarse, en una dimensión, como\n",
    "</p>"
   ]
  },
  {
   "cell_type": "markdown",
   "metadata": {},
   "source": [
    "<p>\n",
    "<span id=\"ec003\" style=\"float:right;\">(3)</span>\n",
    "$$\n",
    "\\ddot{x}+{\\omega}^{2}\\,x=0\n",
    "$$\n",
    "</p>"
   ]
  },
  {
   "cell_type": "markdown",
   "metadata": {},
   "source": [
    "<p style=\"text-align:justify\">\n",
    "Nótese que los coeficientes de la <em>ec.</em> (<a style=\"text-decoration:none;\" href=\"#ec003\">3</a>) son $1$ y $\\omega^2$ que, por ser funciones constantes, son analíticas sobre $\\mathbb{C}$ y por tanto lo son sobre $\\mathbb{R}$. Resulta válido entonces procurar una solución en serie de potencias desarrolladas en torno a la posición de equilibrio que se toma en  $x(t=0)$ de modo que resulta\n",
    "</p>"
   ]
  },
  {
   "cell_type": "markdown",
   "metadata": {},
   "source": [
    "<p>\n",
    "<span id=\"ec004\" style=\"float:right;\">(4)</span>\n",
    "$$\n",
    "x=\\sum_{k=0}^{\\infty}a_{k}\\,t^{k}\n",
    "$$\n",
    "</p>"
   ]
  },
  {
   "cell_type": "markdown",
   "metadata": {},
   "source": [
    "<p style=\"text-align:justify\">\n",
    "De esta forma la primera derivada de $x$ la obtenemos derivando término a término su serie de potencias, así\n",
    "</p>"
   ]
  },
  {
   "cell_type": "markdown",
   "metadata": {},
   "source": [
    "<p>\n",
    "<span id=\"ec005\" style=\"float:right;\">(5)</span>\n",
    "$$\n",
    "\\dot{x}=\n",
    "\\sum_{k=1}^{\\infty}k{a}_{k}\\,t^{k-1}\\quad=\n",
    "\\!\\!\\!\\!\\!\\!\\!\\!\\!\\!\\!{}^{k\\rightarrow k+1}\\,\n",
    "\\sum_{k=0}^{\\infty}(k+1){a}_{k+1}\\,t^{k}.\n",
    "$$\n",
    "</p>"
   ]
  },
  {
   "cell_type": "markdown",
   "metadata": {},
   "source": [
    "<p style=\"text-align:justify\">\n",
    "De forma totalmente análoga llegamos a la segunda derivada como\n",
    "</p>"
   ]
  },
  {
   "cell_type": "markdown",
   "metadata": {},
   "source": [
    "<p>\n",
    "<span id=\"ec006\" style=\"float:right;\">(6)</span>\n",
    "$$\n",
    "\\ddot{x}=\n",
    "\\sum_{k=1}^{\\infty}k(k+1){a}_{k+1}\\,t^{k-1}\\quad=\n",
    "\\!\\!\\!\\!\\!\\!\\!\\!\\!\\!\\!{}^{k\\rightarrow k+1}\\,\n",
    "\\sum_{k=0}^{\\infty}(k+1)(k+2){a}_{k+2}\\,t^{k}.\n",
    "$$\n",
    "</p>"
   ]
  },
  {
   "cell_type": "markdown",
   "metadata": {},
   "source": [
    "<p style=\"text-align:justify\">\n",
    "Reemplazando (<a style=\"text-decoration:none;\" href=\"#ec005\">5</a>) y (<a style=\"text-decoration:none;\" href=\"#ec006\">6</a>) en (<a style=\"text-decoration:none;\" href=\"#ec003\">3</a>) obtenemos la ecuación\n",
    "</p>"
   ]
  },
  {
   "cell_type": "markdown",
   "metadata": {},
   "source": [
    "<p>\n",
    "<span id=\"ec007\" style=\"float:right;\">(7)</span>\n",
    "$$\n",
    "\\sum_{k=0}^{\\infty}(k+1)(k+2){a}_{k+2}\\,t^{k}-{\\omega}^{2}\\left(\\sum_{k=1}^{\\infty}a_{k}\\,t^{k}\\right)=0.\n",
    "$$\n",
    "</p>"
   ]
  },
  {
   "cell_type": "markdown",
   "metadata": {},
   "source": [
    "<p style=\"text-align:justify\">\n",
    "Dado que (<a style=\"text-decoration:none;\" href=\"#ec007\">7</a>) es válida para cualquier valor de t, esta ecuación nos conduce a la relación de recurrencia\n",
    "</p>"
   ]
  },
  {
   "cell_type": "markdown",
   "metadata": {},
   "source": [
    "<p>\n",
    "<span id=\"ec008\" style=\"float:right;\">(8)</span>\n",
    "$$\n",
    "(k+2)(k+1)a_{k+2}+\\omega^{2}a_{k}=0.\n",
    "$$\n",
    "</p>"
   ]
  },
  {
   "cell_type": "markdown",
   "metadata": {},
   "source": [
    "<p style=\"text-align:justify\">\n",
    "Si fijamos los valores de los coeficientes $a_0$ y $a_1$ podemos obtener las soluciones de (<a style=\"text-decoration:none;\" href=\"#ec008\">8</a>) como\n",
    "</p>"
   ]
  },
  {
   "cell_type": "markdown",
   "metadata": {},
   "source": [
    "<p>\n",
    "<span id=\"ec009\" style=\"float:right;\">(9)</span>\n",
    "$$\n",
    "a_{2n}=\\frac{(-1)^{n}\\omega^{2n}}{(2n)!}a_0,\n",
    "$$\n",
    "</p>"
   ]
  },
  {
   "cell_type": "markdown",
   "metadata": {},
   "source": [
    "<p>\n",
    "<span id=\"ec010\" style=\"float:right;\">(10)</span>\n",
    "$$\n",
    "a_{2n+1}=\\frac{(-1)^n \\omega^{2n}}{(2n+1)!}a_1.\n",
    "$$\n",
    "</p>"
   ]
  },
  {
   "cell_type": "markdown",
   "metadata": {},
   "source": [
    "<p style=\"text-align:justify\">\n",
    "Si reemplazamos (<a style=\"text-decoration:none;\" href=\"#ec009\">9</a>) y (<a style=\"text-decoration:none;\" href=\"#ec010\">10</a>) en (<a style=\"text-decoration:none;\" href=\"#ec004\">4</a>) se obtiene, tras reordenar términos,\n",
    "</p>"
   ]
  },
  {
   "cell_type": "markdown",
   "metadata": {},
   "source": [
    "<p>\n",
    "<span id=\"ec011\" style=\"float:right;\">(11)</span>\n",
    "$$\n",
    "x=a_{0}\\sum_{k=0}^{\\infty}\\frac{(-1)^{n}}{(2n)!}({\\omega}t)^{2n}+\\frac{a_{1}}{\\omega}\\sum_{k=0}^{\\infty}\\frac{(-1)^{n}}{(2n+1)!}({\\omega}t)^{2n+1}\n",
    "$$\n",
    "</p>"
   ]
  },
  {
   "cell_type": "markdown",
   "metadata": {},
   "source": [
    "<p style=\"text-align:justify\">\n",
    "en donde identificamos las series de Taylor de $\\textrm{sen}(\\omega t)$ y $\\textrm{cos}(\\omega t)$ en torno a $0$. Esto último nos permite expresar (<a style=\"text-decoration:none;\" href=\"#ec010\">10</a>) como\n",
    "</p>"
   ]
  },
  {
   "cell_type": "markdown",
   "metadata": {},
   "source": [
    "<p>\n",
    "<span id=\"ec012\" style=\"float:right;\">(12)</span>\n",
    "$$\n",
    "x(t)=a_0\\,\\textrm{cos}(\\omega t)+\\frac{a_1}{\\omega}\\,\\textrm{sin}(\\omega t),\n",
    "$$\n",
    "</p>"
   ]
  },
  {
   "cell_type": "markdown",
   "metadata": {},
   "source": [
    "<p style=\"text-align:justify\">\n",
    "que resulta ser la muy conocida solución de la ecuación del oscilador armónico. Evidentemente las constantes $a_0$ y $a_1$ pueden ser determinadas si se imponen las condiciones iniciales sobre el problema.\n",
    "</p>"
   ]
  },
  {
   "cell_type": "markdown",
   "metadata": {},
   "source": [
    "## 2. El oscilador Armónico en Mecánica Cuántica"
   ]
  },
  {
   "cell_type": "markdown",
   "metadata": {},
   "source": [
    "<p style=\"text-align:justify\">\n",
    "De igual forma que en mecánica clásica los potenciales del tipo oscilador juegan un papel central en mecánica cuántica (y luego en teoría cuántica de campos). Así pues resulta un ejemplo bastante ilustrativo, y en cierto grado sencillo, el resolver la ecuación del oscilador armónico en mecánica cuántica dado que es importancia en la teoría general por estar en las bases de la teoría de la radiación.\n",
    "</p>"
   ]
  },
  {
   "cell_type": "markdown",
   "metadata": {},
   "source": [
    "<p style=\"text-align:justify\">\n",
    "Empecemos planteando la forma del potencial para el oscilador armónico. Consideremos que la descripción se hace en términos de una coordenada $q$ y su momento conjugado $p$ cuyos operadores asociados se representan como $\\widehat{q}$ y $\\widehat{q}$ respectivamente. Haciendo uso del parámetro $\\omega$ definido en la física clásica podemos expresar el operador de energía potencial como\n",
    "</p>"
   ]
  },
  {
   "cell_type": "markdown",
   "metadata": {},
   "source": [
    "<p>\n",
    "<span id=\"ec013\" style=\"float:right;\">(13)</span>\n",
    "$$\n",
    "\\widehat{\\mathcal{V}}(\\widehat{q})=\\frac{1}{2}m{\\omega}^{2}\\widehat{q}^{\\,2},\n",
    "$$\n",
    "</p>"
   ]
  },
  {
   "cell_type": "markdown",
   "metadata": {},
   "source": [
    "<p style=\"text-align:justify\">\n",
    "con lo cual el operador Hamiltoniano resulta ser\n",
    "</p>"
   ]
  },
  {
   "cell_type": "markdown",
   "metadata": {},
   "source": [
    "<p>\n",
    "<span id=\"ec014\" style=\"float:right;\">(14)</span>\n",
    "$$\n",
    "\\widehat{\\mathcal{H}}(\\widehat{q},\\widehat{p})=\\frac{1}{2m}\\left({\\widehat{p}}^{\\,2}+{m}^{2}{\\omega}^{2}{\\widehat{p}}^{\\,2}\\right)\n",
    "$$\n",
    "</p>"
   ]
  },
  {
   "cell_type": "markdown",
   "metadata": {},
   "source": [
    "### 2.1. La energía de punto cero"
   ]
  },
  {
   "cell_type": "markdown",
   "metadata": {},
   "source": [
    "<p style=\"text-align:justify\">\n",
    "Para empezar el estudio formal del oscilador armónico exploremos primero el estado fundamental a través de su energía mínima. En primer lugar notemos que de acuerdo al principio de incertidumbre es posible establecer la siguiente desigualdad\n",
    "</p>"
   ]
  },
  {
   "cell_type": "markdown",
   "metadata": {},
   "source": [
    "<p>\n",
    "<span id=\"ec015\" style=\"float:right;\">(15)</span>\n",
    "$$\n",
    "(\\Delta\\widehat{p}\\,)^{2}(\\Delta\\widehat{q}\\,)^{2}\\geq\\frac{\\hbar^2}{4}\n",
    "$$\n",
    "</p>"
   ]
  },
  {
   "cell_type": "markdown",
   "metadata": {},
   "source": [
    "<p style=\"text-align:justify\">\n",
    "de lo cual, reemplazando las definiciones de $(\\Delta\\widehat{p})^{2}$ y $(\\Delta\\widehat{q})^{2}$, resulta\n",
    "</p>"
   ]
  },
  {
   "cell_type": "markdown",
   "metadata": {},
   "source": [
    "<p>\n",
    "<span id=\"ec016\" style=\"float:right;\">(16)</span>\n",
    "$$\n",
    "\\langle\\widehat{p}^{\\,2}\\rangle\\langle\\widehat{q}^{\\,2}\\rangle\\geq\\frac{{\\hbar}^{2}}{4}.\n",
    "$$\n",
    "</p>"
   ]
  },
  {
   "cell_type": "markdown",
   "metadata": {},
   "source": [
    "<p style=\"text-align:justify\">\n",
    "En este punto es fundamental suponer que la función de onda en el estado basasl es tal que, en la expresión anterior, es posible empelar el signo de igualdad, obteniéndose así\n",
    "</p>"
   ]
  },
  {
   "cell_type": "markdown",
   "metadata": {},
   "source": [
    "<p>\n",
    "<span id=\"ec017\" style=\"float:right;\">(17)</span>\n",
    "$$\n",
    "\\langle\\widehat{p}^{\\,2}\\rangle\\langle\\widehat{q}^{\\,2}\\rangle=\\frac{{\\hbar}^{2}}{4}.\n",
    "$$\n",
    "</p>"
   ]
  },
  {
   "cell_type": "markdown",
   "metadata": {},
   "source": [
    "<p style=\"text-align:justify\">\n",
    "Cuando se calcula el valor esperado de la energía a partir de (<a style=\"text-decoration:none;\" href=\"#ec014\">14</a>) e introduciendo (<a style=\"text-decoration:none;\" href=\"#ec017\">17</a>) se obtiene\n",
    "</p>"
   ]
  },
  {
   "cell_type": "markdown",
   "metadata": {},
   "source": [
    "<p>\n",
    "<span id=\"ec018\" style=\"float:right;\">(18)</span>\n",
    "$$\n",
    "\\langle\\mathcal{E}\\rangle=\\langle\\widehat{\\mathcal{H}}\\rangle=\n",
    "\\frac{{\\hbar}^{2}}{8m}\\left(\\frac{1}{\\langle\\widehat{q}^{\\,2}\\rangle}+\n",
    "\\frac{4{m}^{2}{\\omega}^{2}{\\langle\\widehat{q}^{\\,2}\\rangle}}{{\\hbar}^{2}}\\right).\n",
    "$$\n",
    "</p>"
   ]
  },
  {
   "cell_type": "markdown",
   "metadata": {},
   "source": [
    "<p style=\"text-align:justify\">\n",
    "Minimizando $\\langle\\mathcal{E}\\rangle$ respecto de $\\langle\\widehat{q}^{\\,2}\\rangle$ obtenemos que\n",
    "</p>"
   ]
  },
  {
   "cell_type": "markdown",
   "metadata": {},
   "source": [
    "<p>\n",
    "<span id=\"ec019\" style=\"float:right;\">(19)</span>\n",
    "$$\n",
    "{\\langle\\mathcal{E}\\rangle}_{\\textrm{min}}=\\frac{1}{2}\\hbar\\,\\omega.\n",
    "$$\n",
    "</p>"
   ]
  },
  {
   "cell_type": "markdown",
   "metadata": {},
   "source": [
    "<p style=\"text-align:justify\">\n",
    "Debido a que el valor esperado de la energía de un estado estacionario coincide con el autovalor del Hamiltoniano del sistema en tal estado, se tiene que la energía del estado fundamental\n",
    "</p>"
   ]
  },
  {
   "cell_type": "markdown",
   "metadata": {},
   "source": [
    "<p>\n",
    "<span id=\"ec020\" style=\"float:right;\">(20)</span>\n",
    "$$\n",
    "{\\mathcal{E}}_{\\textrm{min}}=\\frac{1}{2}\\hbar\\,\\omega\n",
    "$$\n",
    "</p>"
   ]
  },
  {
   "cell_type": "markdown",
   "metadata": {},
   "source": [
    "<p style=\"text-align:justify\">\n",
    "A la luz de la suposición hecha para validar (<a style=\"text-decoration:none;\" href=\"#ec017\">17</a>) es importante notar que la energía del estado fundamental del oscilador armónico no es nula. Esta energía mínima, que ningún oscilador puede perder, es la denominada energía de punto cero.\n",
    "</p>"
   ]
  },
  {
   "cell_type": "markdown",
   "metadata": {},
   "source": [
    "### 2.2. El espectro de energías"
   ]
  },
  {
   "cell_type": "markdown",
   "metadata": {},
   "source": [
    "<p style=\"text-align:justify\">\n",
    "El hecho de considerar valido el Hamiltoniano clásico, del cual deriva (<a style=\"text-decoration:none;\" href=\"#ec014\">14</a>), para la mecánica cuántica, requiere además considerar la condición cuántica del conmutador\n",
    "</p>"
   ]
  },
  {
   "cell_type": "markdown",
   "metadata": {},
   "source": [
    "<p>\n",
    "<span id=\"ec021\" style=\"float:right;\">(21)</span>\n",
    "$$\n",
    "[\\widehat{q},\\widehat{p}]=\\widehat{\\mathbb{I}}\\,i\\,\\hbar\n",
    "$$\n",
    "</p>"
   ]
  },
  {
   "cell_type": "markdown",
   "metadata": {},
   "source": [
    "<p style=\"text-align:justify\">\n",
    "de modo que las <em>ecs.</em> (<a style=\"text-decoration:none;\" href=\"#ec014\">14</a>) y (<a style=\"text-decoration:none;\" href=\"#ec021\">21</a>) definen completamente el sistema. De esta forma las ecuaciones del movimiento del sistema están dadas por\n",
    "</p>"
   ]
  },
  {
   "cell_type": "markdown",
   "metadata": {},
   "source": [
    "<p>\n",
    "<span id=\"ec022\" style=\"float:right;\">(22)</span>\n",
    "$$\n",
    "\\dot{\\widehat{q}}=-\\frac{i}{\\hbar}\\left[\\widehat{q},\\widehat{\\mathcal{H}}\\right]=\\frac{1}{m}\\widehat{p}\n",
    "$$\n",
    "</p>"
   ]
  },
  {
   "cell_type": "markdown",
   "metadata": {},
   "source": [
    "y"
   ]
  },
  {
   "cell_type": "markdown",
   "metadata": {},
   "source": [
    "<p>\n",
    "<span id=\"ec023\" style=\"float:right;\">(23)</span>\n",
    "$$\n",
    "\\dot{\\widehat{p}}=-\\frac{i}{\\hbar}\\left[\\widehat{p},\\widehat{\\mathcal{H}}\\right]=-m\\omega^{2}\\widehat{q}.\n",
    "$$\n",
    "</p>"
   ]
  },
  {
   "cell_type": "markdown",
   "metadata": {},
   "source": [
    "<p style=\"text-align:justify\">\n",
    "Resulta conveniente introducir el operador dinámico $\\widehat{\\eta}$ definido como\n",
    "</p>"
   ]
  },
  {
   "cell_type": "markdown",
   "metadata": {},
   "source": [
    "<p>\n",
    "<span id=\"ec024\" style=\"float:right;\">(24)</span>\n",
    "$$\n",
    "\\widehat{\\eta}=\\frac{1}{2m\\hbar\\omega}\\left(m\\omega\\widehat{q}+i\\widehat{p}\\right)\n",
    "$$\n",
    "</p>"
   ]
  },
  {
   "cell_type": "markdown",
   "metadata": {},
   "source": [
    "<p style=\"text-align:justify\">\n",
    "de forma que el Hamiltoniano puede expresarse en términos de $\\widehat{\\eta}$ y su compleja conjugada ${\\widehat{\\eta}}^{\\ast}$ como\n",
    "</p>"
   ]
  },
  {
   "cell_type": "markdown",
   "metadata": {},
   "source": [
    "<p>\n",
    "<span id=\"ec025\" style=\"float:right;\">(25)</span>\n",
    "$$\n",
    "\\widehat{\\mathcal{H}}\\left(\\widehat{\\eta},{\\widehat{\\eta}}^{\\ast}\\right)=\\hbar\\omega\\left(\\widehat{\\eta}\\,{\\widehat{\\eta}}^{\\ast}-\\frac{1}{2}\\widehat{\\mathbb{I}}\\right)\n",
    "$$\n",
    "</p>"
   ]
  },
  {
   "cell_type": "markdown",
   "metadata": {},
   "source": [
    "<p style=\"text-align:justify\">\n",
    "o, de forma equivalente,\n",
    "</p>"
   ]
  },
  {
   "cell_type": "markdown",
   "metadata": {},
   "source": [
    "<p>\n",
    "<span id=\"ec026\" style=\"float:right;\">(26)</span>\n",
    "$$\n",
    "\\widehat{\\mathcal{H}}\\left(\\widehat{\\eta},{\\widehat{\\eta}}^{\\ast}\\right)=\\hbar\\omega\\left({\\widehat{\\eta}}^{\\ast}\\widehat{\\eta}+\\frac{1}{2}\\widehat{\\mathbb{I}}\\right)\n",
    "$$\n",
    "</p>"
   ]
  },
  {
   "cell_type": "markdown",
   "metadata": {},
   "source": [
    "<p style=\"text-align:justify\">\n",
    "A partir de (<a style=\"text-decoration:none;\" href=\"#ec025\">25</a>) y (<a style=\"text-decoration:none;\" href=\"#ec026\">26</a>) podemos obtener fácilmente el conmutador de $\\widehat{\\eta}$ y ${\\widehat{\\eta}}^{\\ast}$\n",
    "</p>"
   ]
  },
  {
   "cell_type": "markdown",
   "metadata": {},
   "source": [
    "<p>\n",
    "<span id=\"ec027\" style=\"float:right;\">(27)</span>\n",
    "$$\n",
    "\\left[\\widehat{\\eta},{\\widehat{\\eta}}^{\\ast}\\right]=\\widehat{\\mathbb{I}}.\n",
    "$$\n",
    "</p>"
   ]
  },
  {
   "cell_type": "markdown",
   "metadata": {},
   "source": [
    "<p style=\"text-align:justify\">\n",
    "De igual modo se obtienen las siguientes relaciones\n",
    "</p>"
   ]
  },
  {
   "cell_type": "markdown",
   "metadata": {},
   "source": [
    "<p>\n",
    "<span id=\"ec028\" style=\"float:right;\">(28)</span>\n",
    "$$\n",
    "\\left[\\widehat{\\eta},\\widehat{\\mathcal{H}}\\right]=\\hbar\\omega\\widehat{\\eta},\n",
    "$$\n",
    "</p>"
   ]
  },
  {
   "cell_type": "markdown",
   "metadata": {},
   "source": [
    "<p>\n",
    "<span id=\"ec029\" style=\"float:right;\">(29)</span>\n",
    "$$\n",
    "\\left[{\\widehat{\\eta}}^{\\ast},\\widehat{\\mathcal{H}}\\right]=-\\hbar\\omega{\\widehat{\\eta}}^{\\ast}.\n",
    "$$\n",
    "</p>"
   ]
  },
  {
   "cell_type": "markdown",
   "metadata": {},
   "source": [
    "<p style=\"text-align:justify\">\n",
    "Resulta de (<a style=\"text-decoration:none;\" href=\"#ec028\">28</a>) que las ecuaciones del movimiento del sistema se pueden expresar en la nueva variable $\\widehat{\\eta}$ como\n",
    "</p>"
   ]
  },
  {
   "cell_type": "markdown",
   "metadata": {},
   "source": [
    "<p>\n",
    "<span id=\"ec030\" style=\"float:right;\">(30)</span>\n",
    "$$\n",
    "\\dot{\\widehat{\\eta}}=-\\frac{i}{h}\\left[\\widehat{\\eta},\\widehat{\\mathcal{H}}\\right]=-i\\omega\\widehat{\\eta}\n",
    "$$\n",
    "</p>\n"
   ]
  },
  {
   "cell_type": "markdown",
   "metadata": {},
   "source": [
    "<p style=\"text-align:justify\">\n",
    "Esta ecuacón se integra fácilmente dando como resultado\n",
    "</p>"
   ]
  },
  {
   "cell_type": "markdown",
   "metadata": {},
   "source": [
    "<p>\n",
    "<span id=\"ec031\" style=\"float:right;\">(31)</span>\n",
    "$$\n",
    "\\widehat{\\eta}(t)={\\widehat{\\eta}}_{0}\\,{\\textrm{e}}^{-i{\\omega}t}\n",
    "$$\n",
    "</p>"
   ]
  },
  {
   "cell_type": "markdown",
   "metadata": {},
   "source": [
    "<p style=\"text-align:justify\">\n",
    "Donde ${\\widehat{\\eta}}_{0}$ representa el operador lineal independiente del tiempo y es igual al valor de $\\widehat{\\eta}(t)$ en evaluado en $t=0$.\n",
    "Hasta el momento las ecuaciones coinciden con la teoría clásica sin mayores inconvenientes, salvo la <em>ec.</em> (<a style=\"text-decoration:none;\" href=\"#ec020\">20</a>). Sin embargo al considerar el estado cuyo auto valor es $\\sigma$ y el ket correspondiente, $|\\sigma\\rangle$, y calcular el valor medio del operador $\\widehat{\\eta}^{\\ast}\\widehat{\\eta}$ obtenemos a partir de la <em>ec.</em> (<a style=\"text-decoration:none;\" href=\"#ec026\">26</a>)\n",
    "</p>"
   ]
  },
  {
   "cell_type": "markdown",
   "metadata": {},
   "source": [
    "<p>\n",
    "<span id=\"ec032\" style=\"float:right;\">(32)</span>\n",
    "$$\n",
    "\\hbar\\omega\\left\\langle \\sigma\\left|\\widehat{\\eta}^{\\ast}\\widehat{\\eta}\\right|\\sigma\\right\\rangle =\n",
    "\\left\\langle \\sigma\\left|\\widehat{\\mathcal{H}}\\right|\\sigma\\right\\rangle -\n",
    "\\frac{1}{2}\\left\\langle \\sigma|\\sigma\\right\\rangle \n",
    "$$\n",
    "</p>"
   ]
  },
  {
   "cell_type": "markdown",
   "metadata": {},
   "source": [
    "<p style=\"text-align:justify\">\n",
    "Si consideramos la normalización del ket $|\\sigma\\rangle$, $\\langle\\sigma|\\sigma\\rangle=1$, y que el factor $\\langle\\sigma|\\widehat{\\eta}^{\\ast}\\widehat{\\eta}|\\sigma\\rangle$ es la longitud del ket $\\widehat{\\eta}|\\sigma\\rangle$ y por tanto es siempre mayor o igual a $0$, entonces resulta que\n",
    "</p>"
   ]
  },
  {
   "cell_type": "markdown",
   "metadata": {},
   "source": [
    "<p>\n",
    "<span id=\"ec033\" style=\"float:right;\">(33)</span>\n",
    "$$\n",
    "\\left\\langle \\sigma\\left|\\widehat{\\mathcal{H}}\\right|\\sigma\\right\\rangle \\geq\\frac{1}{2}\\hbar\\omega,\n",
    "$$\n",
    "</p>"
   ]
  },
  {
   "cell_type": "markdown",
   "metadata": {},
   "source": [
    "<p style=\"text-align:justify\">\n",
    "resultado que coincide con el obtenido en el apartado anterior. Como el Hamiltoniano es cuadrático en $\\widehat{q}$ y en $\\widehat{p}$ era esperar que sus autovalores sean todos nulos o positivos, sin embargo en (<a style=\"text-decoration:none;\" href=\"#ec033\">33</a>) hemos obtenido una condición más restrictiva. Resulta claro que (<a style=\"text-decoration:none;\" href=\"#ec033\">33</a>) se convierte en una igualdad cuando $\\widehat{\\eta}|\\sigma\\rangle=0$, es decir cuando $|\\sigma\\rangle$ corresponde al estado fundamental.\n",
    "Por otro lado, a partir de (<a style=\"text-decoration:none;\" href=\"#ec029\">29</a>) podemos obtener\n",
    "</p>"
   ]
  },
  {
   "cell_type": "markdown",
   "metadata": {},
   "source": [
    "<p>\n",
    "<span id=\"ec034\" style=\"float:right;\">(34)</span>\n",
    "$$\n",
    "\\widehat{\\mathcal{H}}\\widehat{\\eta}^{\\ast}|\\sigma\\rangle=\n",
    "(\\widehat{\\eta}^{\\ast}\\widehat{\\mathcal{H}}+\\hbar\\omega\\widehat{\\eta}^{\\ast})|\\sigma\\rangle=\n",
    "(\\sigma+\\hbar\\omega)\\widehat{\\eta}^{\\ast}|\\sigma\\rangle\n",
    "$$\n",
    "</p>"
   ]
  },
  {
   "cell_type": "markdown",
   "metadata": {},
   "source": [
    "<p style=\"text-align:justify\">\n",
    "lo cual indica que si $|\\sigma\\rangle$ es un autoket $\\widehat{\\mathcal{H}}$ con autovalor $\\sigma$, entonces $\\widehat{\\eta}^{\\ast}|\\sigma\\rangle$ es también otro autoket con cuyo autovalor correspondiente es $\\sigma+\\hbar\\omega$ siempre que $\\widehat{\\eta}^{\\ast}|\\sigma\\rangle\\neq0$. El caso en el cual $\\widehat{\\eta}^{\\ast}|\\sigma\\rangle=0$ puede descartarse pues, según (<a style=\"text-decoration:none;\" href=\"#ec025\">25</a>), se tendría\n",
    "</p>"
   ]
  },
  {
   "cell_type": "markdown",
   "metadata": {},
   "source": [
    "<p>\n",
    "<span id=\"ec035\" style=\"float:right;\">(35)</span>\n",
    "$$\n",
    "0=\\hbar\\omega\\left\\langle \\sigma|\\widehat{\\eta}\\,\\widehat{\\eta}^{\\ast}|\\sigma\\right\\rangle =\n",
    "\\left\\langle \\sigma\\left|\\widehat{\\mathcal{H}}+\\frac{1}{2}{\\widehat{\\mathbb{I}}}\\right|\\sigma\\right\\rangle =\n",
    "\\sigma+\\frac{1}{2}\\hbar\\omega,\n",
    "$$\n",
    "</p>"
   ]
  },
  {
   "cell_type": "markdown",
   "metadata": {},
   "source": [
    "<p style=\"text-align:justify\">\n",
    "lo cual contradice el resultado obtenido en (<a style=\"text-decoration:none;\" href=\"#ec033\">33</a>).\n",
    "Siguiendo el proceso anterior podemos obtener, a partir de (<a style=\"text-decoration:none;\" href=\"#ec028\">28</a>), $\\widehat{\\mathcal{H}}\\widehat{\\eta}\\left|\\sigma\\right\\rangle $ como\n",
    "</p>"
   ]
  },
  {
   "cell_type": "markdown",
   "metadata": {},
   "source": [
    "<p>\n",
    "<span id=\"ec036\" style=\"float:right;\">(36)</span>\n",
    "$$\n",
    "\\widehat{\\mathcal{H}}\\widehat{\\eta}\\left|\\sigma\\right\\rangle=\n",
    "(\\widehat{\\eta}\\widehat{\\mathcal{H}}-\\hbar\\omega\\widehat{\\eta})\\left|\\sigma\\right\\rangle=\n",
    "(\\sigma-\\hbar\\omega)\\widehat{\\eta}\\left|\\sigma\\right\\rangle.\n",
    "$$\n",
    "</p>"
   ]
  },
  {
   "cell_type": "markdown",
   "metadata": {},
   "source": [
    "<p style=\"text-align:justify\">\n",
    "Las <em>ecs.</em> (<a style=\"text-decoration:none;\" href=\"#ec034\">34</a>) y (<a style=\"text-decoration:none;\" href=\"#ec036\">36</a>) nos conducen, por aplicación sucesiva, a dos series de autovalores que han de ser equivalentes. Por un lado (<a style=\"text-decoration:none;\" href=\"#ec036\">36</a>) nos dice que a partir de un ket de estado $\\left|\\sigma\\right\\rangle $ con autovalor $\\sigma\\neq\\frac{1}{2}\\hbar\\omega$ podemos obtener otro ket de estado $\\widehat{\\eta}^{\\ast}\\left|\\sigma\\right\\rangle $ cuyo autovalor resulta $\\sigma-\\hbar\\omega$. Siempre que $\\sigma-\\hbar\\omega\\neq\\frac{1}{2}\\hbar\\omega$ es posible obtener otro autoket $\\widehat{\\eta}^{\\ast 2}\\left|\\sigma\\right\\rangle $ cuyo autovalor $\\sigma-2\\hbar\\omega$. Repitiendo este razonamiento obtenemos una serie $\\sigma,\\sigma-\\hbar\\omega,\\sigma-2\\hbar\\omega,\\sigma-3\\hbar\\omega,...$ que evidentemente terminará cuando se alcance el autovalor $\\frac{1}{2}\\hbar\\omega$. Razonando de modo análogo se llega, a partir de (<a style=\"text-decoration:none;\" href=\"#ec034\">34</a>), a que la sucesión de valores $\\sigma,\\sigma+\\hbar\\omega,\\sigma+2\\hbar\\omega,\\sigma+3\\hbar\\omega,...$ representa una sucesión de autovalores que, a diferencia de la anterior, no posee un límite superior.\n",
    "Si se representa por $\\left|0\\right\\rangle $ al ket correspondiente al mínimo autovalor, tenemos que\n",
    "</p>"
   ]
  },
  {
   "cell_type": "markdown",
   "metadata": {},
   "source": [
    "<p>\n",
    "<span id=\"ec037\" style=\"float:right;\">(37)</span>\n",
    "$$\n",
    "\\widehat{\\eta}\\left|0\\right\\rangle =0\n",
    "$$\n",
    "</p>"
   ]
  },
  {
   "cell_type": "markdown",
   "metadata": {},
   "source": [
    "<p style=\"text-align:justify\">\n",
    "así, a partir de (<a style=\"text-decoration:none;\" href=\"#ec034\">34</a>), podemos formar la sucesión de kets\n",
    "</p>"
   ]
  },
  {
   "cell_type": "markdown",
   "metadata": {},
   "source": [
    "<p>\n",
    "<span id=\"ec038\" style=\"float:right;\">(38)</span>\n",
    "$$\n",
    "\\left|0\\right\\rangle ,\n",
    "\\widehat{\\eta}^{\\ast}\\left|0\\right\\rangle ,\n",
    "\\widehat{\\eta}^{\\ast 2}\\left|0\\right\\rangle ,\n",
    "\\widehat{\\eta}^{\\ast 3}\\left|0\\right\\rangle ,\n",
    "\\widehat{\\eta}^{\\ast 4}\\left|0\\right\\rangle ,\n",
    "\\widehat{\\eta}^{\\ast 5}\\left|0\\right\\rangle ,\n",
    "...\n",
    "$$\n",
    "</p>"
   ]
  },
  {
   "cell_type": "markdown",
   "metadata": {},
   "source": [
    "<p style=\"text-align:justify\">\n",
    "los cuales son autokets de $\\widehat{\\mathcal{H}}$. Mediante la aplicación sucesiva de (<a style=\"text-decoration:none;\" href=\"#ec034\">34</a>) y en virtud de (<a style=\"text-decoration:none;\" href=\"#ec037\">37</a>) se tiene que los autovalores correspondientes forman la sucesión\n",
    "</p>"
   ]
  },
  {
   "cell_type": "markdown",
   "metadata": {},
   "source": [
    "<p>\n",
    "<span id=\"ec039\" style=\"float:right;\">(39)</span>\n",
    "$$\n",
    "\\frac{1}{2}\\hbar\\omega,\n",
    "\\frac{3}{2}\\hbar\\omega,\n",
    "\\frac{5}{2}\\hbar\\omega,\n",
    "\\frac{7}{2}\\hbar\\omega,\n",
    "\\frac{9}{2}\\hbar\\omega,\n",
    "\\frac{11}{2}\\hbar\\omega,\n",
    "...\n",
    "$$\n",
    "</p>"
   ]
  },
  {
   "cell_type": "markdown",
   "metadata": {},
   "source": [
    "<p style=\"text-align:justify\">\n",
    "correspondiente a la sucesión de kets dada en (<a style=\"text-decoration:none;\" href=\"#ec038\">38</a>).\n",
    "Si calculamos $\\widehat{\\mathcal{H}}\\widehat{\\eta}^{\\ast k}\\left|0\\right\\rangle ,$ a partir de (<a style=\"text-decoration:none;\" href=\"#ec025\">25</a>) , con $k\\in\\mathbb{Z}_{0}^{+}$, obtenemos\n",
    "</p>"
   ]
  },
  {
   "cell_type": "markdown",
   "metadata": {},
   "source": [
    "<p>\n",
    "<span id=\"ec040\" style=\"float:right;\">(40)</span>\n",
    "$$\n",
    "\\widehat{\\mathcal{H}}\\widehat{\\eta}^{\\ast k}\\left|0\\right\\rangle =\n",
    "\\hbar\\omega\\left(\\widehat{\\eta}\\,{\\widehat{\\eta}}^{\\ast{k+1}}\\left|0\\right\\rangle -\n",
    "\\frac{1}{2}{\\widehat{\\eta}}^{\\ast{k}}\\left|0\\right\\rangle \\right),\n",
    "$$\n",
    "</p>"
   ]
  },
  {
   "cell_type": "markdown",
   "metadata": {},
   "source": [
    "<p style=\"text-align:justify\">\n",
    "considerando que\n",
    "</p>"
   ]
  },
  {
   "cell_type": "markdown",
   "metadata": {},
   "source": [
    "<p>\n",
    "<span id=\"ec041\" style=\"float:right;\">(41)</span>\n",
    "$$\n",
    "\\widehat{\\eta}\\,{\\widehat{\\eta}}^{\\ast{k+1}}\\left|0\\right\\rangle =\n",
    "\\left(k+1\\right){\\widehat{\\eta}}^{\\ast{k}}\\left|0\\right\\rangle ,\n",
    "$$\n",
    "</p>"
   ]
  },
  {
   "cell_type": "markdown",
   "metadata": {},
   "source": [
    "<p style=\"text-align:justify\">\n",
    "entonces (<a style=\"text-decoration:none;\" href=\"#ec040\">40</a>) deriva en\n",
    "</p>"
   ]
  },
  {
   "cell_type": "markdown",
   "metadata": {},
   "source": [
    "<p>\n",
    "<span id=\"ec042\" style=\"float:right;\">(42)</span>\n",
    "$$\n",
    "\\widehat{\\mathcal{H}}\\widehat{\\eta}^{\\ast k}\\left|0\\right\\rangle =\n",
    "\\hbar\\omega\\left(k+\\frac{1}{2}\\right){\\widehat{\\eta}}^{\\ast{k}}\\left|0\\right\\rangle .\n",
    "$$\n",
    "</p>"
   ]
  },
  {
   "cell_type": "markdown",
   "metadata": {},
   "source": [
    "<p style=\"text-align:justify\">\n",
    "Esta última ecuación relaciona cada autoket ${\\widehat{\\eta}}^{\\ast{k}}\\left|0\\right\\rangle $ del operador $\\widehat{\\mathcal{H}}$ con su respectivo autovalor $(k+\\frac{1}{2})\\hbar\\omega$. Dado que las variables $\\widehat{q}$ y $\\widehat{p}$ se pueden representar completamente por las variables ${\\widehat{\\eta}}$ y ${\\widehat{\\eta}}^{\\ast}$ a partir (<a style=\"text-decoration:none;\" href=\"#ec024\">24</a>), entonces la los auto valores $(k+\\frac{1}{2})\\hbar\\omega$ son los únicos, pues en caso contrario habrían más variables dinámicas.\n",
    "Finalmente, dada la normalización de $\\left|0\\right\\rangle $ implica que la norma del ket ${\\widehat{\\eta}}^{\\ast}\\left|0\\right\\rangle $ es\n",
    "</p>"
   ]
  },
  {
   "cell_type": "markdown",
   "metadata": {},
   "source": [
    "<p>\n",
    "<span id=\"ec043\" style=\"float:right;\">(43)</span>\n",
    "$$\n",
    "\\left\\langle 0\\left|{\\widehat{\\eta}}^{k}\\,{\\widehat{\\eta}}^{\\ast{k}}\\right|0\\right\\rangle =k!\n",
    "$$\n",
    "</p>"
   ]
  },
  {
   "cell_type": "markdown",
   "metadata": {},
   "source": [
    "<p style=\"text-align:justify\">\n",
    "por lo cual el conjunto normalizado de autokets de operador $\\widehat{\\mathcal{H}}$ resulta\n",
    "</p>"
   ]
  },
  {
   "cell_type": "markdown",
   "metadata": {},
   "source": [
    "<p>\n",
    "<span id=\"ec044\" style=\"float:right;\">(44)</span>\n",
    "$$\n",
    "\\left\\{\\frac{1}{\\sqrt{k!}}{\\widehat{\\eta}}^{\\ast{k}}\\left|0\\right\\rangle \\right\\}_{k=0}^{\\infty}.\n",
    "$$\n",
    "</p>"
   ]
  },
  {
   "cell_type": "markdown",
   "metadata": {},
   "source": [
    "<p style=\"text-align:justify\">\n",
    "Este conjunto es una base para de la representación en la cual el operador $\\widehat{\\mathcal{H}}$ es diagonal, así pues ket $\\left|\\sigma\\right\\rangle $, que represente algún estado del oscilador, acepta la descomposición\n",
    "</p>"
   ]
  },
  {
   "cell_type": "markdown",
   "metadata": {},
   "source": [
    "<p>\n",
    "<span id=\"ec045\" style=\"float:right;\">(45)</span>\n",
    "$$\n",
    "\\left|\\sigma\\right\\rangle =\\sum_{k=0}^{\\infty}\\frac{{\\sigma}_{k}}{\\sqrt{k!}}{\\widehat{\\eta}}^{\\ast{k}}\\left|0\\right\\rangle \n",
    "$$\n",
    "</p>"
   ]
  },
  {
   "cell_type": "markdown",
   "metadata": {},
   "source": [
    "<p style=\"text-align:justify\">\n",
    "donde los $\\sigma_{k}\\in\\mathbb{R}$. Así, para el estado definido $\\left|\\sigma\\right\\rangle $, la probabilidad de que el oscilador armónico esté en el estado $k$ será\n",
    "</p>"
   ]
  },
  {
   "cell_type": "markdown",
   "metadata": {},
   "source": [
    "<p>\n",
    "<span id=\"ec046\" style=\"float:right;\">(46)</span>\n",
    "$$\n",
    "P(k)=\\left|x\\right|^{2}\n",
    "$$\n",
    "</p>"
   ]
  },
  {
   "cell_type": "markdown",
   "metadata": {},
   "source": [
    "### 2.3. La función de onda del estado fundamental"
   ]
  },
  {
   "cell_type": "markdown",
   "metadata": {},
   "source": [
    "<p style=\"text-align:justify\">\n",
    "Calculemos ahora la función de onda del estado fundamental a partir de\n",
    "</p>"
   ]
  },
  {
   "cell_type": "markdown",
   "metadata": {},
   "source": [
    "<p>\n",
    "<span id=\"ec047\" style=\"float:right;\">(47)</span>\n",
    "$$\n",
    "\\left\\langle q|0\\right\\rangle =\\psi_{0}(q)\n",
    "$$\n",
    "</p>"
   ]
  },
  {
   "cell_type": "markdown",
   "metadata": {},
   "source": [
    "<p style=\"text-align:justify\">\n",
    "lo cual es posible a la luz de (<a style=\"text-decoration:none;\" href=\"#ec037\">37</a>), pues si multiplicamos (<a style=\"text-decoration:none;\" href=\"#ec037\">37</a>) por $\\left\\langle q\\right|$ y hacemos uso de (<a style=\"text-decoration:none;\" href=\"#ec024\">24</a>)\n",
    "</p>"
   ]
  },
  {
   "cell_type": "markdown",
   "metadata": {},
   "source": [
    "<p>\n",
    "<span id=\"ec048\" style=\"float:right;\">(48)</span>\n",
    "$$\n",
    "\\left\\langle q\\right|\\widehat{\\eta}\\left|0\\right\\rangle =\n",
    "\\frac{1}{2m\\hbar\\omega}\\left\\langle q\\left|m\\omega\\widehat{q}+i\\widehat{p}\\right|0\\right\\rangle \n",
    "$$\n",
    "</p>"
   ]
  },
  {
   "cell_type": "markdown",
   "metadata": {},
   "source": [
    "<p style=\"text-align:justify\">\n",
    "El reemplazo de los operadores diferenciales equivalentes a $\\widehat{q}$ y $\\widehat{p}$ en (<a style=\"text-decoration:none;\" href=\"#ec048\">48</a>) nos conduce a la ecuación diferencial\n",
    "</p>"
   ]
  },
  {
   "cell_type": "markdown",
   "metadata": {},
   "source": [
    "<p>\n",
    "<span id=\"ec049\" style=\"float:right;\">(49)</span>\n",
    "$$\n",
    "\\hbar\\frac{\\partial}{\\partial{t}}\\left\\langle q|0\\right\\rangle +m\\omega{q}\\left\\langle q|0\\right\\rangle =0,\n",
    "$$\n",
    "</p>"
   ]
  },
  {
   "cell_type": "markdown",
   "metadata": {},
   "source": [
    "<p style=\"text-align:justify\">\n",
    "cuya solución normalizada resulta ser\n",
    "</p>"
   ]
  },
  {
   "cell_type": "markdown",
   "metadata": {},
   "source": [
    "<p>\n",
    "<span id=\"ec050\" style=\"float:right;\">(50)</span>\n",
    "$$\n",
    "\\left\\langle q|0\\right\\rangle =\\psi_{0}(q)=\\sqrt[4]{\\frac{m\\omega}{\\pi\\hbar}}\\,{\\textrm{e}}^{-\\textstyle{\\frac{m\\omega{q}^{2}}{2\\hbar}}}.\n",
    "$$\n",
    "</p>"
   ]
  },
  {
   "cell_type": "markdown",
   "metadata": {},
   "source": [
    "<p style=\"text-align:justify\">\n",
    "La función de onda así obtenida es la correspondiente al estado estacionario fundamental del oscilador armónico.\n",
    "</p>"
   ]
  },
  {
   "cell_type": "markdown",
   "metadata": {},
   "source": [
    "### 2.4. La función de onda para los estados excitados"
   ]
  },
  {
   "cell_type": "markdown",
   "metadata": {},
   "source": [
    "<p style=\"text-align:justify\">\n",
    "Para el caso general podemos tomar cualquiera de los autokets de (<a style=\"text-decoration:none;\" href=\"#ec044\">44</a>) con $k\\neq0$, entonces la función de onda para dicho estado vendrá dada por\n",
    "</p>"
   ]
  },
  {
   "cell_type": "markdown",
   "metadata": {},
   "source": [
    "<p>\n",
    "<span id=\"ec051\" style=\"float:right;\">(51)</span>\n",
    "$$\n",
    "\\left\\langle q\\left|{\\widehat{\\eta}}^{\\ast k}\\right|0\\right\\rangle =\\sqrt{k!}{\\psi}_{k}(q).\n",
    "$$\n",
    "</p>"
   ]
  },
  {
   "cell_type": "markdown",
   "metadata": {},
   "source": [
    "<p style=\"text-align:justify\">\n",
    "Podemos expresar (<a style=\"text-decoration:none;\" href=\"#ec051\">51</a>) en términos del estado fundamental reemplazando directamente la expresión de ${\\widehat{\\eta}}^{\\ast}$ de modo que resulta\n",
    "</p>"
   ]
  },
  {
   "cell_type": "markdown",
   "metadata": {},
   "source": [
    "<p>\n",
    "<span id=\"ec052\" style=\"float:right;\">(52)</span>\n",
    "$$\n",
    "\\left\\langle q\\left|{\\widehat{\\eta}}^{\\ast}\\right|0\\right\\rangle =\n",
    "\\frac{1}{\\sqrt{2^k}}\\left(\\sqrt{\\frac{m\\omega}{\\hbar}}q+\n",
    "\\sqrt{\\frac{\\hbar}{m\\omega}}\\frac{\\partial}{\\partial{q}}\\right)^{k}\\psi_{0}(q),\n",
    "$$\n",
    "</p>"
   ]
  },
  {
   "cell_type": "markdown",
   "metadata": {},
   "source": [
    "<p style=\"text-align:justify\">\n",
    "y en consecuencia\n",
    "</p>"
   ]
  },
  {
   "cell_type": "markdown",
   "metadata": {},
   "source": [
    "<p>\n",
    "<span id=\"ec053\" style=\"float:right;\">(53)</span>\n",
    "$$\n",
    "{\\psi}_{k}(q)=\n",
    "\\frac{1}{\\sqrt{k!{2}^{k}}}\\left(\\sqrt{\\frac{m\\omega}{\\hbar}}q+\n",
    "\\sqrt{\\frac{\\hbar}{m\\omega}}\\frac{\\partial}{\\partial{q}}\\right)^{k}\\psi_{0}(q),\n",
    "$$\n",
    "</p>"
   ]
  },
  {
   "cell_type": "markdown",
   "metadata": {},
   "source": [
    "<p style=\"text-align:justify\">\n",
    "Considérese ahora la aplicación del operador en (<a style=\"text-decoration:none;\" href=\"#ec053\">53</a>) sobre $\\psi_0$ con $k=1$, entonces se llega a\n",
    "</p>"
   ]
  },
  {
   "cell_type": "markdown",
   "metadata": {},
   "source": [
    "<p>\n",
    "<span id=\"ec054\" style=\"float:right;\">(54)</span>\n",
    "$$\n",
    "\\left(\\sqrt{\\frac{m\\omega}{\\hbar}}q+\\sqrt{\\frac{\\hbar}{m\\omega}}\\frac{\\partial}{\\partial{q}}\\right)\\psi_{0}=\n",
    "-\\sqrt{\\frac{\\hbar}{m\\omega}}{\\textrm{e}}^{\\frac{m\\omega{q^2}}{2\\hbar}}\\frac{\\partial}{\\partial{q}}\\left({\\psi_0}{\\textrm{e}}^{-\\frac{m\\omega{q}^2}{2\\hbar}}\\right)\n",
    "$$\n",
    "</p>"
   ]
  },
  {
   "cell_type": "markdown",
   "metadata": {},
   "source": [
    "<p style=\"text-align:justify\">\n",
    "Por inducción, a partir de (<a style=\"text-decoration:none;\" href=\"#ec054\">54</a>), se puede demostrar el siguiente resultado\n",
    "</p>"
   ]
  },
  {
   "cell_type": "markdown",
   "metadata": {},
   "source": [
    "<p>\n",
    "<span id=\"ec055\" style=\"float:right;\">(55)</span>\n",
    "$$\n",
    "\\begin{array}{ccc}\n",
    "\\displaystyle{{\\left(\\sqrt{\\frac{m\\omega}{\\hbar}}q+\\sqrt{\\frac{\\hbar}{m\\omega}}\\frac{\\partial}{\\partial{q}}\\right)}^{k}\\psi_{0}} & = &\\\\\n",
    "& & \\!\\!\\!\\!\\!\\!\\!\\!\\!\\!\\!\\!\\!\\!\\!\\!\\!\\!\\!\\!\\!\\!\\!\\!\\displaystyle{(-1)^k\\left(\\sqrt{\\frac{\\hbar }{m\\omega }}\\right)^k{\\textrm{e}}^{\\textstyle{\\frac{m\\omega{q}^{2}}{2\\hbar}}}\\frac{\\partial ^k}{\\partial q^k}\\left({\\textrm{e}}^{-\\textstyle{\\frac{m\\omega{q}^{2}}{2\\hbar}}}\\psi _0(q)\\right)}\n",
    "\\end{array}\n",
    "$$\n",
    "</p>"
   ]
  },
  {
   "cell_type": "markdown",
   "metadata": {},
   "source": [
    "<p style=\"text-align:justify\">\n",
    "Remplazando esta ultima expresion y (<a style=\"text-decoration:none;\" href=\"ec050\">50</a>) en (<a style=\"text-decoration:none;\" href=\"#ec053\">53</a>)se tiene que la función de onda del estado $k$ resulta\n",
    "</p>"
   ]
  },
  {
   "cell_type": "markdown",
   "metadata": {},
   "source": [
    "<p>\n",
    "<span id=\"ec056\" style=\"float:right;\">(56)</span>\n",
    "$$\n",
    "\\psi _k(q)=\n",
    "\\frac{(-1)^k}{\\sqrt{k!2^k}}\\sqrt[4]{\\frac{m\\omega }{\\pi \\hbar }}\n",
    "\\left(\\sqrt{\\frac{\\hbar}{m\\omega}}\\right)^k{\\textrm{e}}^{\\textstyle{\\frac{m\\omega{q}^{2}}{2\\hbar}}}\\frac{\\partial^k}{\\partial q^k}\\left({\\textrm{e}}^{-\\textstyle{\\frac{m\\omega{q}^{2}}{\\hbar}}}\\right)\n",
    "$$\n",
    "</p>"
   ]
  },
  {
   "cell_type": "markdown",
   "metadata": {},
   "source": [
    "<p style=\"text-align:justify\">\n",
    "Manipulando de forma adecuada la exponencial no afectada por la derivada y separando términos convenientemente podemos reconocer la expresión\n",
    "</p>"
   ]
  },
  {
   "cell_type": "markdown",
   "metadata": {},
   "source": [
    "<p>\n",
    "<span id=\"ec057\" style=\"float:right;\">(57)</span>\n",
    "$$\n",
    "(-1)^k\\left(\\sqrt{\\frac{\\hbar}{m\\omega}}\\right)^k{\\textrm{e}}^{\\textstyle{\\frac{m\\omega{q}^{2}}{\\hbar}}}\\frac{\\partial ^k}{\\partial q^k}\\left({\\textrm{e}}^{-\\textstyle{\\frac{m\\omega{q}^{2}}{\\hbar}}}\\right)\n",
    "$$\n",
    "</p>"
   ]
  },
  {
   "cell_type": "markdown",
   "metadata": {},
   "source": [
    "<p style=\"text-align:justify\">\n",
    "que representa la fórmula de Rodríguez que genera el polinomio de Hermite $H_k$ de grado $k$. Esta observación final nos permite representar la función de onda $\\psi_k(q)$ como\n",
    "</p>"
   ]
  },
  {
   "cell_type": "markdown",
   "metadata": {},
   "source": [
    "<p>\n",
    "<span id=\"ec058\" style=\"float:right;\">(58)</span>\n",
    "$$\n",
    "\\psi _k(q)=\n",
    "\\frac{1}{\\sqrt{k!2^k}}\\sqrt[4]{\\frac{m\\omega }{\\pi \\hbar }}\n",
    "H_k\\left(\\sqrt{\\frac{m\\omega }{\\hbar }}q\\right)\n",
    "{\\textrm{e}}^{-\\textstyle{\\frac{m\\omega{q}^{2}}{2\\hbar}}}\n",
    "$$\n",
    "</p>"
   ]
  },
  {
   "cell_type": "markdown",
   "metadata": {},
   "source": [
    "## 3. Implementación de $\\Psi_{k}(q)$ en Python"
   ]
  },
  {
   "cell_type": "markdown",
   "metadata": {},
   "source": [
    "<p style=\"text-align:justify\">\n",
    "Resulta de gran utilidad disponer de una representación gráfica de las autofunciones del operador Hamiltoniano del oscilador armónico, lo cual es el propósito de esta sección. A tal efecto partimos de la <em>ec.</em> (<a style=\"text-decoration:none;\" href=\"#ec058\">58</a>) obtenida el final de la sección anterior.\n",
    "</p>"
   ]
  },
  {
   "cell_type": "markdown",
   "metadata": {},
   "source": [
    "$$\n",
    "\\psi _k(q)=\n",
    "\\frac{1}{\\sqrt{k!2^k}}\\sqrt[4]{\\frac{m\\omega }{\\pi \\hbar }}\n",
    "H_k\\left(\\sqrt{\\frac{m\\omega }{\\hbar }}q\\right)\n",
    "{\\textrm{e}}^{-\\textstyle{\\frac{m\\omega{q}^{2}}{2\\hbar}}}\n",
    "$$"
   ]
  },
  {
   "cell_type": "markdown",
   "metadata": {},
   "source": [
    "<p style=\"text-align:justify\">\n",
    "y consideremos la igualdad\n",
    "</p>"
   ]
  },
  {
   "cell_type": "markdown",
   "metadata": {},
   "source": [
    "<p>\n",
    "<span id=\"ec059\" style=\"float:right;\">(59)</span>\n",
    "$$\n",
    "\\sqrt{\\frac{m\\omega}{\\hbar}}=1\n",
    "$$\n",
    "</p>"
   ]
  },
  {
   "cell_type": "markdown",
   "metadata": {},
   "source": [
    "<p style=\"text-align:justify\">\n",
    "obteniendo así\n",
    "</p>"
   ]
  },
  {
   "cell_type": "markdown",
   "metadata": {},
   "source": [
    "<p>\n",
    "<span id=\"ec060\" style=\"float:right;\">(60)</span>\n",
    "$$\n",
    "\\psi_k(\\xi)=\n",
    "\\frac{1}{\\sqrt{k!2^k\\sqrt{\\pi}}}\n",
    "H_k\\left(\\xi\\right)\n",
    "{\\textrm{e}}^{-{\\frac{1}{2}\\xi^2}}\n",
    "$$\n",
    "</p>"
   ]
  },
  {
   "cell_type": "markdown",
   "metadata": {},
   "source": [
    "<p style=\"text-align:justify\">\n",
    "donde se ha reemplazado $q$ por $\\xi$ por razones que se explicaran más adelante.\n",
    "</p>"
   ]
  },
  {
   "cell_type": "markdown",
   "metadata": {},
   "source": [
    "<p style=\"text-align:justify\">\n",
    "Para implementar el cálculo de $\\psi_k(\\xi)$ en Python requerimos calcular primero $k!$ y $H_k(\\xi)$ pues los demás factores pueden calcularse con funciones propias del lenguaje. En primer lugar, el cálculo del factorial de $k$ se puede realizar mediante la implementación de la clásica regla de recurrencia\n",
    "</p>"
   ]
  },
  {
   "cell_type": "markdown",
   "metadata": {},
   "source": [
    "<p>\n",
    "<span id=\"ec061\" style=\"float:right;\">(61)</span>\n",
    "$$\n",
    "k!=k\\cdot(k-1)!\n",
    "$$\n",
    "</p>"
   ]
  },
  {
   "cell_type": "markdown",
   "metadata": {},
   "source": [
    "<p style=\"text-align:justify\">\n",
    "la cual puede ser implementada como según el código mostrado en el Script siguiente.\n",
    "</p>"
   ]
  },
  {
   "cell_type": "code",
   "execution_count": 1,
   "metadata": {
    "collapsed": true
   },
   "outputs": [],
   "source": [
    "class Memoize:\n",
    "    def __init__(self, f):\n",
    "        self.f = f\n",
    "        self.memo = {}\n",
    "        \n",
    "    def __call__(self, *args):\n",
    "        if args not in self.memo.keys():\n",
    "            self.memo[args] = self.f(*args)\n",
    "        \n",
    "        return self.memo[args]"
   ]
  },
  {
   "cell_type": "code",
   "execution_count": 2,
   "metadata": {
    "collapsed": true
   },
   "outputs": [],
   "source": [
    "@Memoize\n",
    "def factorial(n):\n",
    "    return 1 if n == 0 else n * factorial(n - 1)"
   ]
  },
  {
   "cell_type": "markdown",
   "metadata": {},
   "source": [
    "<p style=\"text-align:justify\">\n",
    "El cálculo de $H_k(\\xi)$ se hace uso de la regla de recurrencia\n",
    "</p>"
   ]
  },
  {
   "cell_type": "markdown",
   "metadata": {},
   "source": [
    "<p>\n",
    "<span id=\"ec062\" style=\"float:right;\">(62)</span>\n",
    "$$\n",
    "H_{k+1}(\\xi)=2{\\xi}H_k{\\xi}-2kH_{k-1}{\\xi}.\n",
    "$$\n",
    "</p>"
   ]
  },
  {
   "cell_type": "markdown",
   "metadata": {},
   "source": [
    "<p style=\"text-align:justify\">\n",
    "La cual puede implementarse al igual que $k!$. Así, una tentativa de código sería la que se muestra en el Script acontinuación\n",
    "</p>"
   ]
  },
  {
   "cell_type": "code",
   "execution_count": 3,
   "metadata": {
    "collapsed": true
   },
   "outputs": [],
   "source": [
    "@Memoize\n",
    "def Hermite(n, x):\n",
    "    if n == 0:\n",
    "        return 1\n",
    "    \n",
    "    hermite_v = [1, 2 * x]\n",
    "    \n",
    "    for m in range(2, n + 1):\n",
    "        hermite_v.append(\n",
    "            2 * x * hermite_v[m - 1] - 2 * (m - 1) * hermite_v[m - 2]\n",
    "        )\n",
    "        \n",
    "    return hermite_v[n]"
   ]
  },
  {
   "cell_type": "markdown",
   "metadata": {},
   "source": [
    "<p style=\"text-align:justify\">\n",
    "Con la implementación de las funciones <code>factorial</code> y <code>Hermite</code> resulta simple implementar las funciones $\\psi_k(\\xi)$. Una opción puede ser la que se muestra acontinuación\n",
    "</p>"
   ]
  },
  {
   "cell_type": "code",
   "execution_count": 4,
   "metadata": {
    "collapsed": true
   },
   "outputs": [],
   "source": [
    "@Memoize\n",
    "def Psi(n, x):\n",
    "    return (\n",
    "        pow(pi, -0.25) * \n",
    "        pow(2.0, -0.5 * n) *\n",
    "        pow(factorial(n), -0.5) *\n",
    "        Hermite(n, x) *\n",
    "        exp(-0.5*pow(x,2))\n",
    "    )"
   ]
  },
  {
   "cell_type": "markdown",
   "metadata": {
    "collapsed": true
   },
   "source": [
    "## 4. Gráficos"
   ]
  },
  {
   "cell_type": "markdown",
   "metadata": {},
   "source": [
    "<p style=\"text-align:justify\">\n",
    "Los resultados obtenidos con la implementación son básicamente gráficos y se prestan como recurso para una visualización de las funciones de onda asociadas oscilador armónico así como sus distribuciones de probabilidad.\n",
    "</p>"
   ]
  },
  {
   "cell_type": "markdown",
   "metadata": {},
   "source": [
    "<p style=\"text-align:justify\">\n",
    "Es importante tener en cuenta que estos resultados se complementan con la interpretación de (<a style=\"text-decoration:none;\" href=\"#ec059\">59</a>) como la elección de la unidad natural longitudes para el oscilador. Y en efecto, si tenemos en cuenta las dimensiones tenemos que\n",
    "</p>"
   ]
  },
  {
   "cell_type": "markdown",
   "metadata": {},
   "source": [
    "<p>\n",
    "<span id=\"ec063\" style=\"float:right;\">(63)</span>\n",
    "$$\n",
    "\\left[\\frac{\\hbar}{m\\omega}\\right]=L^2\n",
    "$$\n",
    "</p>"
   ]
  },
  {
   "cell_type": "markdown",
   "metadata": {},
   "source": [
    "<p style=\"text-align:justify\">\n",
    "donde $L$ representa longitud. Con esto\n",
    "</p>"
   ]
  },
  {
   "cell_type": "markdown",
   "metadata": {},
   "source": [
    "<p>\n",
    "<span id=\"ec064\" style=\"float:right;\">(64)</span>\n",
    "$$\n",
    "\\sqrt{\\frac{m\\omega}{\\hbar}}q=\\frac{q}{\\sqrt{\\displaystyle{\\frac{\\hbar}{m\\omega}}}}\n",
    "$$\n",
    "</p>"
   ]
  },
  {
   "cell_type": "markdown",
   "metadata": {},
   "source": [
    "<p style=\"text-align:justify\">\n",
    "representa unn cociente de longitudes. Esto es cierto en el caso en el cual $q$ se tome como una longitud. Si $q$ no representa una longitud, entonces $m$ no será necesariamente una masa, sino que será una magnitud tal que (<a style=\"text-decoration:none;\" href=\"#ec064\">64</a>) represente un cociente entre magnitudes con las mismas dimensiones. En estas condiciones es posible tomar el denominador del lado izquierdo de la ecuación como la unidad de referencia para medir $q$. Así, este cociente representa una medida relativa cuyo resultado se representa por $\\xi$ en  (<a style=\"text-decoration:none;\" href=\"#ec060\">60</a>)\n",
    "</p>"
   ]
  },
  {
   "cell_type": "markdown",
   "metadata": {},
   "source": [
    "<p style=\"text-align:justify\">\n",
    "Con esta interpretación clara de  (<a style=\"text-decoration:none;\" href=\"#ec059\">59</a>) se pueden interpretar adecuadamente las gráficas que se siguen a continuación.\n",
    "</p>"
   ]
  },
  {
   "cell_type": "markdown",
   "metadata": {},
   "source": [
    "#### Ajustes generales para los gráficos"
   ]
  },
  {
   "cell_type": "code",
   "execution_count": 5,
   "metadata": {
    "collapsed": true
   },
   "outputs": [],
   "source": [
    "%matplotlib notebook"
   ]
  },
  {
   "cell_type": "code",
   "execution_count": 6,
   "metadata": {
    "collapsed": true
   },
   "outputs": [],
   "source": [
    "from distutils.spawn import find_executable\n",
    "\n",
    "from matplotlib.font_manager import *\n",
    "from matplotlib.collections import *\n",
    "from matplotlib.patches import *\n",
    "from matplotlib.pylab import *\n",
    "from matplotlib import colors\n",
    "\n",
    "import seaborn\n",
    "\n",
    "\n",
    "rem = 12\n",
    "\n",
    "seaborn.set(context='notebook', style='darkgrid')\n",
    "\n",
    "ioff()\n",
    "\n",
    "rc('lines', linewidth=1)\n",
    "rc('font', family='serif')\n",
    "rc('font', size=rem)\n",
    "rc('axes', titlepad=1.500*rem)\n",
    "rc('axes', titlesize=1.728*rem)\n",
    "rc('axes', labelsize=1.200*rem)\n",
    "rc('legend', fontsize=1.000*rem)\n",
    "rc('xtick', labelsize=0.833*rem)\n",
    "rc('ytick', labelsize=0.833*rem)\n",
    "\n",
    "if find_executable('latex'):\n",
    "    rc('text', usetex=True)\n",
    "\n",
    "material_palette = {\n",
    "    -1: \"#212121\",\n",
    "    0: \"#F44336\",\n",
    "    1: \"#E91E63\",\n",
    "    2: \"#9C27B0\",\n",
    "    3: \"#673AB7\",\n",
    "    4: \"#3F51B5\",\n",
    "    5: \"#2196F3\",\n",
    "    6: \"#03A9F4\",\n",
    "    7: \"#00BCD4\",\n",
    "    8: \"#009688\",\n",
    "    9: \"#4CAF50\",\n",
    "    10: \"#8BC34A\",\n",
    "    11: \"#CDDC39\",\n",
    "    12: \"#FFEB3B\",\n",
    "    13: \"#FFC107\",\n",
    "    14: \"#FF9800\",\n",
    "    15: \"#FF5722\",\n",
    "}"
   ]
  },
  {
   "cell_type": "markdown",
   "metadata": {},
   "source": [
    "#### Gráfico de los polinomios de Hermite de orden 0 al 4"
   ]
  },
  {
   "cell_type": "code",
   "execution_count": 7,
   "metadata": {},
   "outputs": [
    {
     "data": {
      "application/javascript": [
       "/* Put everything inside the global mpl namespace */\n",
       "window.mpl = {};\n",
       "\n",
       "\n",
       "mpl.get_websocket_type = function() {\n",
       "    if (typeof(WebSocket) !== 'undefined') {\n",
       "        return WebSocket;\n",
       "    } else if (typeof(MozWebSocket) !== 'undefined') {\n",
       "        return MozWebSocket;\n",
       "    } else {\n",
       "        alert('Your browser does not have WebSocket support.' +\n",
       "              'Please try Chrome, Safari or Firefox ≥ 6. ' +\n",
       "              'Firefox 4 and 5 are also supported but you ' +\n",
       "              'have to enable WebSockets in about:config.');\n",
       "    };\n",
       "}\n",
       "\n",
       "mpl.figure = function(figure_id, websocket, ondownload, parent_element) {\n",
       "    this.id = figure_id;\n",
       "\n",
       "    this.ws = websocket;\n",
       "\n",
       "    this.supports_binary = (this.ws.binaryType != undefined);\n",
       "\n",
       "    if (!this.supports_binary) {\n",
       "        var warnings = document.getElementById(\"mpl-warnings\");\n",
       "        if (warnings) {\n",
       "            warnings.style.display = 'block';\n",
       "            warnings.textContent = (\n",
       "                \"This browser does not support binary websocket messages. \" +\n",
       "                    \"Performance may be slow.\");\n",
       "        }\n",
       "    }\n",
       "\n",
       "    this.imageObj = new Image();\n",
       "\n",
       "    this.context = undefined;\n",
       "    this.message = undefined;\n",
       "    this.canvas = undefined;\n",
       "    this.rubberband_canvas = undefined;\n",
       "    this.rubberband_context = undefined;\n",
       "    this.format_dropdown = undefined;\n",
       "\n",
       "    this.image_mode = 'full';\n",
       "\n",
       "    this.root = $('<div/>');\n",
       "    this._root_extra_style(this.root)\n",
       "    this.root.attr('style', 'display: inline-block');\n",
       "\n",
       "    $(parent_element).append(this.root);\n",
       "\n",
       "    this._init_header(this);\n",
       "    this._init_canvas(this);\n",
       "    this._init_toolbar(this);\n",
       "\n",
       "    var fig = this;\n",
       "\n",
       "    this.waiting = false;\n",
       "\n",
       "    this.ws.onopen =  function () {\n",
       "            fig.send_message(\"supports_binary\", {value: fig.supports_binary});\n",
       "            fig.send_message(\"send_image_mode\", {});\n",
       "            if (mpl.ratio != 1) {\n",
       "                fig.send_message(\"set_dpi_ratio\", {'dpi_ratio': mpl.ratio});\n",
       "            }\n",
       "            fig.send_message(\"refresh\", {});\n",
       "        }\n",
       "\n",
       "    this.imageObj.onload = function() {\n",
       "            if (fig.image_mode == 'full') {\n",
       "                // Full images could contain transparency (where diff images\n",
       "                // almost always do), so we need to clear the canvas so that\n",
       "                // there is no ghosting.\n",
       "                fig.context.clearRect(0, 0, fig.canvas.width, fig.canvas.height);\n",
       "            }\n",
       "            fig.context.drawImage(fig.imageObj, 0, 0);\n",
       "        };\n",
       "\n",
       "    this.imageObj.onunload = function() {\n",
       "        this.ws.close();\n",
       "    }\n",
       "\n",
       "    this.ws.onmessage = this._make_on_message_function(this);\n",
       "\n",
       "    this.ondownload = ondownload;\n",
       "}\n",
       "\n",
       "mpl.figure.prototype._init_header = function() {\n",
       "    var titlebar = $(\n",
       "        '<div class=\"ui-dialog-titlebar ui-widget-header ui-corner-all ' +\n",
       "        'ui-helper-clearfix\"/>');\n",
       "    var titletext = $(\n",
       "        '<div class=\"ui-dialog-title\" style=\"width: 100%; ' +\n",
       "        'text-align: center; padding: 3px;\"/>');\n",
       "    titlebar.append(titletext)\n",
       "    this.root.append(titlebar);\n",
       "    this.header = titletext[0];\n",
       "}\n",
       "\n",
       "\n",
       "\n",
       "mpl.figure.prototype._canvas_extra_style = function(canvas_div) {\n",
       "\n",
       "}\n",
       "\n",
       "\n",
       "mpl.figure.prototype._root_extra_style = function(canvas_div) {\n",
       "\n",
       "}\n",
       "\n",
       "mpl.figure.prototype._init_canvas = function() {\n",
       "    var fig = this;\n",
       "\n",
       "    var canvas_div = $('<div/>');\n",
       "\n",
       "    canvas_div.attr('style', 'position: relative; clear: both; outline: 0');\n",
       "\n",
       "    function canvas_keyboard_event(event) {\n",
       "        return fig.key_event(event, event['data']);\n",
       "    }\n",
       "\n",
       "    canvas_div.keydown('key_press', canvas_keyboard_event);\n",
       "    canvas_div.keyup('key_release', canvas_keyboard_event);\n",
       "    this.canvas_div = canvas_div\n",
       "    this._canvas_extra_style(canvas_div)\n",
       "    this.root.append(canvas_div);\n",
       "\n",
       "    var canvas = $('<canvas/>');\n",
       "    canvas.addClass('mpl-canvas');\n",
       "    canvas.attr('style', \"left: 0; top: 0; z-index: 0; outline: 0\")\n",
       "\n",
       "    this.canvas = canvas[0];\n",
       "    this.context = canvas[0].getContext(\"2d\");\n",
       "\n",
       "    var backingStore = this.context.backingStorePixelRatio ||\n",
       "\tthis.context.webkitBackingStorePixelRatio ||\n",
       "\tthis.context.mozBackingStorePixelRatio ||\n",
       "\tthis.context.msBackingStorePixelRatio ||\n",
       "\tthis.context.oBackingStorePixelRatio ||\n",
       "\tthis.context.backingStorePixelRatio || 1;\n",
       "\n",
       "    mpl.ratio = (window.devicePixelRatio || 1) / backingStore;\n",
       "\n",
       "    var rubberband = $('<canvas/>');\n",
       "    rubberband.attr('style', \"position: absolute; left: 0; top: 0; z-index: 1;\")\n",
       "\n",
       "    var pass_mouse_events = true;\n",
       "\n",
       "    canvas_div.resizable({\n",
       "        start: function(event, ui) {\n",
       "            pass_mouse_events = false;\n",
       "        },\n",
       "        resize: function(event, ui) {\n",
       "            fig.request_resize(ui.size.width, ui.size.height);\n",
       "        },\n",
       "        stop: function(event, ui) {\n",
       "            pass_mouse_events = true;\n",
       "            fig.request_resize(ui.size.width, ui.size.height);\n",
       "        },\n",
       "    });\n",
       "\n",
       "    function mouse_event_fn(event) {\n",
       "        if (pass_mouse_events)\n",
       "            return fig.mouse_event(event, event['data']);\n",
       "    }\n",
       "\n",
       "    rubberband.mousedown('button_press', mouse_event_fn);\n",
       "    rubberband.mouseup('button_release', mouse_event_fn);\n",
       "    // Throttle sequential mouse events to 1 every 20ms.\n",
       "    rubberband.mousemove('motion_notify', mouse_event_fn);\n",
       "\n",
       "    rubberband.mouseenter('figure_enter', mouse_event_fn);\n",
       "    rubberband.mouseleave('figure_leave', mouse_event_fn);\n",
       "\n",
       "    canvas_div.on(\"wheel\", function (event) {\n",
       "        event = event.originalEvent;\n",
       "        event['data'] = 'scroll'\n",
       "        if (event.deltaY < 0) {\n",
       "            event.step = 1;\n",
       "        } else {\n",
       "            event.step = -1;\n",
       "        }\n",
       "        mouse_event_fn(event);\n",
       "    });\n",
       "\n",
       "    canvas_div.append(canvas);\n",
       "    canvas_div.append(rubberband);\n",
       "\n",
       "    this.rubberband = rubberband;\n",
       "    this.rubberband_canvas = rubberband[0];\n",
       "    this.rubberband_context = rubberband[0].getContext(\"2d\");\n",
       "    this.rubberband_context.strokeStyle = \"#000000\";\n",
       "\n",
       "    this._resize_canvas = function(width, height) {\n",
       "        // Keep the size of the canvas, canvas container, and rubber band\n",
       "        // canvas in synch.\n",
       "        canvas_div.css('width', width)\n",
       "        canvas_div.css('height', height)\n",
       "\n",
       "        canvas.attr('width', width * mpl.ratio);\n",
       "        canvas.attr('height', height * mpl.ratio);\n",
       "        canvas.attr('style', 'width: ' + width + 'px; height: ' + height + 'px;');\n",
       "\n",
       "        rubberband.attr('width', width);\n",
       "        rubberband.attr('height', height);\n",
       "    }\n",
       "\n",
       "    // Set the figure to an initial 600x600px, this will subsequently be updated\n",
       "    // upon first draw.\n",
       "    this._resize_canvas(600, 600);\n",
       "\n",
       "    // Disable right mouse context menu.\n",
       "    $(this.rubberband_canvas).bind(\"contextmenu\",function(e){\n",
       "        return false;\n",
       "    });\n",
       "\n",
       "    function set_focus () {\n",
       "        canvas.focus();\n",
       "        canvas_div.focus();\n",
       "    }\n",
       "\n",
       "    window.setTimeout(set_focus, 100);\n",
       "}\n",
       "\n",
       "mpl.figure.prototype._init_toolbar = function() {\n",
       "    var fig = this;\n",
       "\n",
       "    var nav_element = $('<div/>')\n",
       "    nav_element.attr('style', 'width: 100%');\n",
       "    this.root.append(nav_element);\n",
       "\n",
       "    // Define a callback function for later on.\n",
       "    function toolbar_event(event) {\n",
       "        return fig.toolbar_button_onclick(event['data']);\n",
       "    }\n",
       "    function toolbar_mouse_event(event) {\n",
       "        return fig.toolbar_button_onmouseover(event['data']);\n",
       "    }\n",
       "\n",
       "    for(var toolbar_ind in mpl.toolbar_items) {\n",
       "        var name = mpl.toolbar_items[toolbar_ind][0];\n",
       "        var tooltip = mpl.toolbar_items[toolbar_ind][1];\n",
       "        var image = mpl.toolbar_items[toolbar_ind][2];\n",
       "        var method_name = mpl.toolbar_items[toolbar_ind][3];\n",
       "\n",
       "        if (!name) {\n",
       "            // put a spacer in here.\n",
       "            continue;\n",
       "        }\n",
       "        var button = $('<button/>');\n",
       "        button.addClass('ui-button ui-widget ui-state-default ui-corner-all ' +\n",
       "                        'ui-button-icon-only');\n",
       "        button.attr('role', 'button');\n",
       "        button.attr('aria-disabled', 'false');\n",
       "        button.click(method_name, toolbar_event);\n",
       "        button.mouseover(tooltip, toolbar_mouse_event);\n",
       "\n",
       "        var icon_img = $('<span/>');\n",
       "        icon_img.addClass('ui-button-icon-primary ui-icon');\n",
       "        icon_img.addClass(image);\n",
       "        icon_img.addClass('ui-corner-all');\n",
       "\n",
       "        var tooltip_span = $('<span/>');\n",
       "        tooltip_span.addClass('ui-button-text');\n",
       "        tooltip_span.html(tooltip);\n",
       "\n",
       "        button.append(icon_img);\n",
       "        button.append(tooltip_span);\n",
       "\n",
       "        nav_element.append(button);\n",
       "    }\n",
       "\n",
       "    var fmt_picker_span = $('<span/>');\n",
       "\n",
       "    var fmt_picker = $('<select/>');\n",
       "    fmt_picker.addClass('mpl-toolbar-option ui-widget ui-widget-content');\n",
       "    fmt_picker_span.append(fmt_picker);\n",
       "    nav_element.append(fmt_picker_span);\n",
       "    this.format_dropdown = fmt_picker[0];\n",
       "\n",
       "    for (var ind in mpl.extensions) {\n",
       "        var fmt = mpl.extensions[ind];\n",
       "        var option = $(\n",
       "            '<option/>', {selected: fmt === mpl.default_extension}).html(fmt);\n",
       "        fmt_picker.append(option)\n",
       "    }\n",
       "\n",
       "    // Add hover states to the ui-buttons\n",
       "    $( \".ui-button\" ).hover(\n",
       "        function() { $(this).addClass(\"ui-state-hover\");},\n",
       "        function() { $(this).removeClass(\"ui-state-hover\");}\n",
       "    );\n",
       "\n",
       "    var status_bar = $('<span class=\"mpl-message\"/>');\n",
       "    nav_element.append(status_bar);\n",
       "    this.message = status_bar[0];\n",
       "}\n",
       "\n",
       "mpl.figure.prototype.request_resize = function(x_pixels, y_pixels) {\n",
       "    // Request matplotlib to resize the figure. Matplotlib will then trigger a resize in the client,\n",
       "    // which will in turn request a refresh of the image.\n",
       "    this.send_message('resize', {'width': x_pixels, 'height': y_pixels});\n",
       "}\n",
       "\n",
       "mpl.figure.prototype.send_message = function(type, properties) {\n",
       "    properties['type'] = type;\n",
       "    properties['figure_id'] = this.id;\n",
       "    this.ws.send(JSON.stringify(properties));\n",
       "}\n",
       "\n",
       "mpl.figure.prototype.send_draw_message = function() {\n",
       "    if (!this.waiting) {\n",
       "        this.waiting = true;\n",
       "        this.ws.send(JSON.stringify({type: \"draw\", figure_id: this.id}));\n",
       "    }\n",
       "}\n",
       "\n",
       "\n",
       "mpl.figure.prototype.handle_save = function(fig, msg) {\n",
       "    var format_dropdown = fig.format_dropdown;\n",
       "    var format = format_dropdown.options[format_dropdown.selectedIndex].value;\n",
       "    fig.ondownload(fig, format);\n",
       "}\n",
       "\n",
       "\n",
       "mpl.figure.prototype.handle_resize = function(fig, msg) {\n",
       "    var size = msg['size'];\n",
       "    if (size[0] != fig.canvas.width || size[1] != fig.canvas.height) {\n",
       "        fig._resize_canvas(size[0], size[1]);\n",
       "        fig.send_message(\"refresh\", {});\n",
       "    };\n",
       "}\n",
       "\n",
       "mpl.figure.prototype.handle_rubberband = function(fig, msg) {\n",
       "    var x0 = msg['x0'] / mpl.ratio;\n",
       "    var y0 = (fig.canvas.height - msg['y0']) / mpl.ratio;\n",
       "    var x1 = msg['x1'] / mpl.ratio;\n",
       "    var y1 = (fig.canvas.height - msg['y1']) / mpl.ratio;\n",
       "    x0 = Math.floor(x0) + 0.5;\n",
       "    y0 = Math.floor(y0) + 0.5;\n",
       "    x1 = Math.floor(x1) + 0.5;\n",
       "    y1 = Math.floor(y1) + 0.5;\n",
       "    var min_x = Math.min(x0, x1);\n",
       "    var min_y = Math.min(y0, y1);\n",
       "    var width = Math.abs(x1 - x0);\n",
       "    var height = Math.abs(y1 - y0);\n",
       "\n",
       "    fig.rubberband_context.clearRect(\n",
       "        0, 0, fig.canvas.width, fig.canvas.height);\n",
       "\n",
       "    fig.rubberband_context.strokeRect(min_x, min_y, width, height);\n",
       "}\n",
       "\n",
       "mpl.figure.prototype.handle_figure_label = function(fig, msg) {\n",
       "    // Updates the figure title.\n",
       "    fig.header.textContent = msg['label'];\n",
       "}\n",
       "\n",
       "mpl.figure.prototype.handle_cursor = function(fig, msg) {\n",
       "    var cursor = msg['cursor'];\n",
       "    switch(cursor)\n",
       "    {\n",
       "    case 0:\n",
       "        cursor = 'pointer';\n",
       "        break;\n",
       "    case 1:\n",
       "        cursor = 'default';\n",
       "        break;\n",
       "    case 2:\n",
       "        cursor = 'crosshair';\n",
       "        break;\n",
       "    case 3:\n",
       "        cursor = 'move';\n",
       "        break;\n",
       "    }\n",
       "    fig.rubberband_canvas.style.cursor = cursor;\n",
       "}\n",
       "\n",
       "mpl.figure.prototype.handle_message = function(fig, msg) {\n",
       "    fig.message.textContent = msg['message'];\n",
       "}\n",
       "\n",
       "mpl.figure.prototype.handle_draw = function(fig, msg) {\n",
       "    // Request the server to send over a new figure.\n",
       "    fig.send_draw_message();\n",
       "}\n",
       "\n",
       "mpl.figure.prototype.handle_image_mode = function(fig, msg) {\n",
       "    fig.image_mode = msg['mode'];\n",
       "}\n",
       "\n",
       "mpl.figure.prototype.updated_canvas_event = function() {\n",
       "    // Called whenever the canvas gets updated.\n",
       "    this.send_message(\"ack\", {});\n",
       "}\n",
       "\n",
       "// A function to construct a web socket function for onmessage handling.\n",
       "// Called in the figure constructor.\n",
       "mpl.figure.prototype._make_on_message_function = function(fig) {\n",
       "    return function socket_on_message(evt) {\n",
       "        if (evt.data instanceof Blob) {\n",
       "            /* FIXME: We get \"Resource interpreted as Image but\n",
       "             * transferred with MIME type text/plain:\" errors on\n",
       "             * Chrome.  But how to set the MIME type?  It doesn't seem\n",
       "             * to be part of the websocket stream */\n",
       "            evt.data.type = \"image/png\";\n",
       "\n",
       "            /* Free the memory for the previous frames */\n",
       "            if (fig.imageObj.src) {\n",
       "                (window.URL || window.webkitURL).revokeObjectURL(\n",
       "                    fig.imageObj.src);\n",
       "            }\n",
       "\n",
       "            fig.imageObj.src = (window.URL || window.webkitURL).createObjectURL(\n",
       "                evt.data);\n",
       "            fig.updated_canvas_event();\n",
       "            fig.waiting = false;\n",
       "            return;\n",
       "        }\n",
       "        else if (typeof evt.data === 'string' && evt.data.slice(0, 21) == \"data:image/png;base64\") {\n",
       "            fig.imageObj.src = evt.data;\n",
       "            fig.updated_canvas_event();\n",
       "            fig.waiting = false;\n",
       "            return;\n",
       "        }\n",
       "\n",
       "        var msg = JSON.parse(evt.data);\n",
       "        var msg_type = msg['type'];\n",
       "\n",
       "        // Call the  \"handle_{type}\" callback, which takes\n",
       "        // the figure and JSON message as its only arguments.\n",
       "        try {\n",
       "            var callback = fig[\"handle_\" + msg_type];\n",
       "        } catch (e) {\n",
       "            console.log(\"No handler for the '\" + msg_type + \"' message type: \", msg);\n",
       "            return;\n",
       "        }\n",
       "\n",
       "        if (callback) {\n",
       "            try {\n",
       "                // console.log(\"Handling '\" + msg_type + \"' message: \", msg);\n",
       "                callback(fig, msg);\n",
       "            } catch (e) {\n",
       "                console.log(\"Exception inside the 'handler_\" + msg_type + \"' callback:\", e, e.stack, msg);\n",
       "            }\n",
       "        }\n",
       "    };\n",
       "}\n",
       "\n",
       "// from http://stackoverflow.com/questions/1114465/getting-mouse-location-in-canvas\n",
       "mpl.findpos = function(e) {\n",
       "    //this section is from http://www.quirksmode.org/js/events_properties.html\n",
       "    var targ;\n",
       "    if (!e)\n",
       "        e = window.event;\n",
       "    if (e.target)\n",
       "        targ = e.target;\n",
       "    else if (e.srcElement)\n",
       "        targ = e.srcElement;\n",
       "    if (targ.nodeType == 3) // defeat Safari bug\n",
       "        targ = targ.parentNode;\n",
       "\n",
       "    // jQuery normalizes the pageX and pageY\n",
       "    // pageX,Y are the mouse positions relative to the document\n",
       "    // offset() returns the position of the element relative to the document\n",
       "    var x = e.pageX - $(targ).offset().left;\n",
       "    var y = e.pageY - $(targ).offset().top;\n",
       "\n",
       "    return {\"x\": x, \"y\": y};\n",
       "};\n",
       "\n",
       "/*\n",
       " * return a copy of an object with only non-object keys\n",
       " * we need this to avoid circular references\n",
       " * http://stackoverflow.com/a/24161582/3208463\n",
       " */\n",
       "function simpleKeys (original) {\n",
       "  return Object.keys(original).reduce(function (obj, key) {\n",
       "    if (typeof original[key] !== 'object')\n",
       "        obj[key] = original[key]\n",
       "    return obj;\n",
       "  }, {});\n",
       "}\n",
       "\n",
       "mpl.figure.prototype.mouse_event = function(event, name) {\n",
       "    var canvas_pos = mpl.findpos(event)\n",
       "\n",
       "    if (name === 'button_press')\n",
       "    {\n",
       "        this.canvas.focus();\n",
       "        this.canvas_div.focus();\n",
       "    }\n",
       "\n",
       "    var x = canvas_pos.x * mpl.ratio;\n",
       "    var y = canvas_pos.y * mpl.ratio;\n",
       "\n",
       "    this.send_message(name, {x: x, y: y, button: event.button,\n",
       "                             step: event.step,\n",
       "                             guiEvent: simpleKeys(event)});\n",
       "\n",
       "    /* This prevents the web browser from automatically changing to\n",
       "     * the text insertion cursor when the button is pressed.  We want\n",
       "     * to control all of the cursor setting manually through the\n",
       "     * 'cursor' event from matplotlib */\n",
       "    event.preventDefault();\n",
       "    return false;\n",
       "}\n",
       "\n",
       "mpl.figure.prototype._key_event_extra = function(event, name) {\n",
       "    // Handle any extra behaviour associated with a key event\n",
       "}\n",
       "\n",
       "mpl.figure.prototype.key_event = function(event, name) {\n",
       "\n",
       "    // Prevent repeat events\n",
       "    if (name == 'key_press')\n",
       "    {\n",
       "        if (event.which === this._key)\n",
       "            return;\n",
       "        else\n",
       "            this._key = event.which;\n",
       "    }\n",
       "    if (name == 'key_release')\n",
       "        this._key = null;\n",
       "\n",
       "    var value = '';\n",
       "    if (event.ctrlKey && event.which != 17)\n",
       "        value += \"ctrl+\";\n",
       "    if (event.altKey && event.which != 18)\n",
       "        value += \"alt+\";\n",
       "    if (event.shiftKey && event.which != 16)\n",
       "        value += \"shift+\";\n",
       "\n",
       "    value += 'k';\n",
       "    value += event.which.toString();\n",
       "\n",
       "    this._key_event_extra(event, name);\n",
       "\n",
       "    this.send_message(name, {key: value,\n",
       "                             guiEvent: simpleKeys(event)});\n",
       "    return false;\n",
       "}\n",
       "\n",
       "mpl.figure.prototype.toolbar_button_onclick = function(name) {\n",
       "    if (name == 'download') {\n",
       "        this.handle_save(this, null);\n",
       "    } else {\n",
       "        this.send_message(\"toolbar_button\", {name: name});\n",
       "    }\n",
       "};\n",
       "\n",
       "mpl.figure.prototype.toolbar_button_onmouseover = function(tooltip) {\n",
       "    this.message.textContent = tooltip;\n",
       "};\n",
       "mpl.toolbar_items = [[\"Home\", \"Reset original view\", \"fa fa-home icon-home\", \"home\"], [\"Back\", \"Back to  previous view\", \"fa fa-arrow-left icon-arrow-left\", \"back\"], [\"Forward\", \"Forward to next view\", \"fa fa-arrow-right icon-arrow-right\", \"forward\"], [\"\", \"\", \"\", \"\"], [\"Pan\", \"Pan axes with left mouse, zoom with right\", \"fa fa-arrows icon-move\", \"pan\"], [\"Zoom\", \"Zoom to rectangle\", \"fa fa-square-o icon-check-empty\", \"zoom\"], [\"\", \"\", \"\", \"\"], [\"Download\", \"Download plot\", \"fa fa-floppy-o icon-save\", \"download\"]];\n",
       "\n",
       "mpl.extensions = [\"eps\", \"jpeg\", \"pdf\", \"png\", \"ps\", \"raw\", \"svg\", \"tif\"];\n",
       "\n",
       "mpl.default_extension = \"png\";var comm_websocket_adapter = function(comm) {\n",
       "    // Create a \"websocket\"-like object which calls the given IPython comm\n",
       "    // object with the appropriate methods. Currently this is a non binary\n",
       "    // socket, so there is still some room for performance tuning.\n",
       "    var ws = {};\n",
       "\n",
       "    ws.close = function() {\n",
       "        comm.close()\n",
       "    };\n",
       "    ws.send = function(m) {\n",
       "        //console.log('sending', m);\n",
       "        comm.send(m);\n",
       "    };\n",
       "    // Register the callback with on_msg.\n",
       "    comm.on_msg(function(msg) {\n",
       "        //console.log('receiving', msg['content']['data'], msg);\n",
       "        // Pass the mpl event to the overriden (by mpl) onmessage function.\n",
       "        ws.onmessage(msg['content']['data'])\n",
       "    });\n",
       "    return ws;\n",
       "}\n",
       "\n",
       "mpl.mpl_figure_comm = function(comm, msg) {\n",
       "    // This is the function which gets called when the mpl process\n",
       "    // starts-up an IPython Comm through the \"matplotlib\" channel.\n",
       "\n",
       "    var id = msg.content.data.id;\n",
       "    // Get hold of the div created by the display call when the Comm\n",
       "    // socket was opened in Python.\n",
       "    var element = $(\"#\" + id);\n",
       "    var ws_proxy = comm_websocket_adapter(comm)\n",
       "\n",
       "    function ondownload(figure, format) {\n",
       "        window.open(figure.imageObj.src);\n",
       "    }\n",
       "\n",
       "    var fig = new mpl.figure(id, ws_proxy,\n",
       "                           ondownload,\n",
       "                           element.get(0));\n",
       "\n",
       "    // Call onopen now - mpl needs it, as it is assuming we've passed it a real\n",
       "    // web socket which is closed, not our websocket->open comm proxy.\n",
       "    ws_proxy.onopen();\n",
       "\n",
       "    fig.parent_element = element.get(0);\n",
       "    fig.cell_info = mpl.find_output_cell(\"<div id='\" + id + \"'></div>\");\n",
       "    if (!fig.cell_info) {\n",
       "        console.error(\"Failed to find cell for figure\", id, fig);\n",
       "        return;\n",
       "    }\n",
       "\n",
       "    var output_index = fig.cell_info[2]\n",
       "    var cell = fig.cell_info[0];\n",
       "\n",
       "};\n",
       "\n",
       "mpl.figure.prototype.handle_close = function(fig, msg) {\n",
       "    var width = fig.canvas.width/mpl.ratio\n",
       "    fig.root.unbind('remove')\n",
       "\n",
       "    // Update the output cell to use the data from the current canvas.\n",
       "    fig.push_to_output();\n",
       "    var dataURL = fig.canvas.toDataURL();\n",
       "    // Re-enable the keyboard manager in IPython - without this line, in FF,\n",
       "    // the notebook keyboard shortcuts fail.\n",
       "    IPython.keyboard_manager.enable()\n",
       "    $(fig.parent_element).html('<img src=\"' + dataURL + '\" width=\"' + width + '\">');\n",
       "    fig.close_ws(fig, msg);\n",
       "}\n",
       "\n",
       "mpl.figure.prototype.close_ws = function(fig, msg){\n",
       "    fig.send_message('closing', msg);\n",
       "    // fig.ws.close()\n",
       "}\n",
       "\n",
       "mpl.figure.prototype.push_to_output = function(remove_interactive) {\n",
       "    // Turn the data on the canvas into data in the output cell.\n",
       "    var width = this.canvas.width/mpl.ratio\n",
       "    var dataURL = this.canvas.toDataURL();\n",
       "    this.cell_info[1]['text/html'] = '<img src=\"' + dataURL + '\" width=\"' + width + '\">';\n",
       "}\n",
       "\n",
       "mpl.figure.prototype.updated_canvas_event = function() {\n",
       "    // Tell IPython that the notebook contents must change.\n",
       "    IPython.notebook.set_dirty(true);\n",
       "    this.send_message(\"ack\", {});\n",
       "    var fig = this;\n",
       "    // Wait a second, then push the new image to the DOM so\n",
       "    // that it is saved nicely (might be nice to debounce this).\n",
       "    setTimeout(function () { fig.push_to_output() }, 1000);\n",
       "}\n",
       "\n",
       "mpl.figure.prototype._init_toolbar = function() {\n",
       "    var fig = this;\n",
       "\n",
       "    var nav_element = $('<div/>')\n",
       "    nav_element.attr('style', 'width: 100%');\n",
       "    this.root.append(nav_element);\n",
       "\n",
       "    // Define a callback function for later on.\n",
       "    function toolbar_event(event) {\n",
       "        return fig.toolbar_button_onclick(event['data']);\n",
       "    }\n",
       "    function toolbar_mouse_event(event) {\n",
       "        return fig.toolbar_button_onmouseover(event['data']);\n",
       "    }\n",
       "\n",
       "    for(var toolbar_ind in mpl.toolbar_items){\n",
       "        var name = mpl.toolbar_items[toolbar_ind][0];\n",
       "        var tooltip = mpl.toolbar_items[toolbar_ind][1];\n",
       "        var image = mpl.toolbar_items[toolbar_ind][2];\n",
       "        var method_name = mpl.toolbar_items[toolbar_ind][3];\n",
       "\n",
       "        if (!name) { continue; };\n",
       "\n",
       "        var button = $('<button class=\"btn btn-default\" href=\"#\" title=\"' + name + '\"><i class=\"fa ' + image + ' fa-lg\"></i></button>');\n",
       "        button.click(method_name, toolbar_event);\n",
       "        button.mouseover(tooltip, toolbar_mouse_event);\n",
       "        nav_element.append(button);\n",
       "    }\n",
       "\n",
       "    // Add the status bar.\n",
       "    var status_bar = $('<span class=\"mpl-message\" style=\"text-align:right; float: right;\"/>');\n",
       "    nav_element.append(status_bar);\n",
       "    this.message = status_bar[0];\n",
       "\n",
       "    // Add the close button to the window.\n",
       "    var buttongrp = $('<div class=\"btn-group inline pull-right\"></div>');\n",
       "    var button = $('<button class=\"btn btn-mini btn-primary\" href=\"#\" title=\"Stop Interaction\"><i class=\"fa fa-power-off icon-remove icon-large\"></i></button>');\n",
       "    button.click(function (evt) { fig.handle_close(fig, {}); } );\n",
       "    button.mouseover('Stop Interaction', toolbar_mouse_event);\n",
       "    buttongrp.append(button);\n",
       "    var titlebar = this.root.find($('.ui-dialog-titlebar'));\n",
       "    titlebar.prepend(buttongrp);\n",
       "}\n",
       "\n",
       "mpl.figure.prototype._root_extra_style = function(el){\n",
       "    var fig = this\n",
       "    el.on(\"remove\", function(){\n",
       "\tfig.close_ws(fig, {});\n",
       "    });\n",
       "}\n",
       "\n",
       "mpl.figure.prototype._canvas_extra_style = function(el){\n",
       "    // this is important to make the div 'focusable\n",
       "    el.attr('tabindex', 0)\n",
       "    // reach out to IPython and tell the keyboard manager to turn it's self\n",
       "    // off when our div gets focus\n",
       "\n",
       "    // location in version 3\n",
       "    if (IPython.notebook.keyboard_manager) {\n",
       "        IPython.notebook.keyboard_manager.register_events(el);\n",
       "    }\n",
       "    else {\n",
       "        // location in version 2\n",
       "        IPython.keyboard_manager.register_events(el);\n",
       "    }\n",
       "\n",
       "}\n",
       "\n",
       "mpl.figure.prototype._key_event_extra = function(event, name) {\n",
       "    var manager = IPython.notebook.keyboard_manager;\n",
       "    if (!manager)\n",
       "        manager = IPython.keyboard_manager;\n",
       "\n",
       "    // Check for shift+enter\n",
       "    if (event.shiftKey && event.which == 13) {\n",
       "        this.canvas_div.blur();\n",
       "        // select the cell after this one\n",
       "        var index = IPython.notebook.find_cell_index(this.cell_info[0]);\n",
       "        IPython.notebook.select(index + 1);\n",
       "    }\n",
       "}\n",
       "\n",
       "mpl.figure.prototype.handle_save = function(fig, msg) {\n",
       "    fig.ondownload(fig, null);\n",
       "}\n",
       "\n",
       "\n",
       "mpl.find_output_cell = function(html_output) {\n",
       "    // Return the cell and output element which can be found *uniquely* in the notebook.\n",
       "    // Note - this is a bit hacky, but it is done because the \"notebook_saving.Notebook\"\n",
       "    // IPython event is triggered only after the cells have been serialised, which for\n",
       "    // our purposes (turning an active figure into a static one), is too late.\n",
       "    var cells = IPython.notebook.get_cells();\n",
       "    var ncells = cells.length;\n",
       "    for (var i=0; i<ncells; i++) {\n",
       "        var cell = cells[i];\n",
       "        if (cell.cell_type === 'code'){\n",
       "            for (var j=0; j<cell.output_area.outputs.length; j++) {\n",
       "                var data = cell.output_area.outputs[j];\n",
       "                if (data.data) {\n",
       "                    // IPython >= 3 moved mimebundle to data attribute of output\n",
       "                    data = data.data;\n",
       "                }\n",
       "                if (data['text/html'] == html_output) {\n",
       "                    return [cell, data, j];\n",
       "                }\n",
       "            }\n",
       "        }\n",
       "    }\n",
       "}\n",
       "\n",
       "// Register the function which deals with the matplotlib target/channel.\n",
       "// The kernel may be null if the page has been refreshed.\n",
       "if (IPython.notebook.kernel != null) {\n",
       "    IPython.notebook.kernel.comm_manager.register_target('matplotlib', mpl.mpl_figure_comm);\n",
       "}\n"
      ],
      "text/plain": [
       "<IPython.core.display.Javascript object>"
      ]
     },
     "metadata": {},
     "output_type": "display_data"
    },
    {
     "data": {
      "text/html": [
       "<img src=\"data:image/png;base64,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\" width=\"975\">"
      ],
      "text/plain": [
       "<IPython.core.display.HTML object>"
      ]
     },
     "metadata": {},
     "output_type": "display_data"
    }
   ],
   "source": [
    "fig = figure(1, figsize=(9.75, 6.50), frameon=False)\n",
    "axs = fig.add_subplot('111')\n",
    "\n",
    "X = linspace(-3, 4, 300)\n",
    "\n",
    "for n in range(5):\n",
    "    Y = [Hermite(n, x) for x in X]\n",
    "    axs.plot(X, Y, label=\"$\\mathcal{H}_{\" + \"{0}\".format(n) + \"}$\", color=material_palette[3*n%16])\n",
    "\n",
    "axs.set_xlim(-3, 4)\n",
    "axs.set_xlabel(\"$x$\")\n",
    "axs.set_xticks([x for x in range(-3,5)])\n",
    "axs.set_xticklabels([\"${0}$\".format(x) for x in range(-3,5)])\n",
    "\n",
    "axs.set_ylim(-30, 30)\n",
    "axs.set_ylabel(\"$\\mathcal{H}_n(x)$\")\n",
    "axs.set_yticks([x for x in range(-30,40,10)])\n",
    "axs.set_yticklabels([\"${0}$\".format(x) for x in range(-30,40,10)])\n",
    "\n",
    "axs.set_title(\"$\\mathrm{Polinomios\\ de\\ Hermite}$\")\n",
    "\n",
    "axs.legend(loc=4)\n",
    "axs.grid(linestyle='-')\n",
    "fig.tight_layout()\n",
    "show()"
   ]
  },
  {
   "cell_type": "markdown",
   "metadata": {},
   "source": [
    "#### Gráfico de las funciones de onda y la densidad de probabilidad desde el orden 0 hasta el 12"
   ]
  },
  {
   "cell_type": "code",
   "execution_count": 8,
   "metadata": {
    "scrolled": false
   },
   "outputs": [
    {
     "data": {
      "application/vnd.jupyter.widget-view+json": {
       "model_id": "c765b953a0e64d01b0fb32f64f83a84b"
      }
     },
     "metadata": {},
     "output_type": "display_data"
    }
   ],
   "source": [
    "from IPython.display import display\n",
    "from ipywidgets import *\n",
    "\n",
    "w_order_label = Label(value=\"Orden\")\n",
    "w_order_label.layout.width = '100px'\n",
    "\n",
    "w_order_slider = IntSlider(min=0, max=12, step=1, value=0)\n",
    "\n",
    "w_order_next = Button(icon='fa-step-forward')\n",
    "w_order_next.layout.width = '45.3333px'\n",
    "\n",
    "w_order_prev = Button(icon='fa-step-backward')\n",
    "w_order_prev.layout.width = '45.3333px'\n",
    "\n",
    "wc_order = HBox([w_order_label, w_order_slider, w_order_prev, w_order_next])\n",
    "\n",
    "w_ouput = Output()\n",
    "w_ouput.layout.height = '770px'\n",
    "\n",
    "wc_container = VBox([wc_order, w_ouput])\n",
    "\n",
    "\n",
    "def update_slider(*args):\n",
    "    if args[0] == w_order_next:\n",
    "        w_order_slider.value = (w_order_slider.value + 1)%13\n",
    "    elif args[0] == w_order_prev:\n",
    "        w_order_slider.value = (w_order_slider.value - 1)%13\n",
    "    else:\n",
    "        pass\n",
    "    \n",
    "\n",
    "fig = None\n",
    "wf_axs = None\n",
    "wf_graph = None \n",
    "df_axs = None\n",
    "df_graph = None \n",
    "X = linspace(-6, 6, 300)\n",
    "\n",
    "def make_plot(*args):\n",
    "\n",
    "    n = w_order_slider.value\n",
    "    \n",
    "    w_ouput.clear_output()\n",
    "    \n",
    "    with w_ouput:\n",
    "        global X\n",
    "        global fig\n",
    "        global wf_axs\n",
    "        global wf_graph\n",
    "        global df_axs\n",
    "        global df_graph\n",
    "    \n",
    "        fig = figure(2, figsize=(9.75, 6.50), frameon=False)\n",
    "        fig.clf()\n",
    "        wf_axs = fig.add_subplot('211')\n",
    "\n",
    "        Y = [Psi(n, x) for x in X]\n",
    "\n",
    "        wf_graph, = wf_axs.plot(X, Y, label=\"$\\mathcal{\\psi}_{\" + \"{0}\".format(n) + \"}$\", color=material_palette[n%16])\n",
    "\n",
    "        wf_axs.set_xlim(-6, 6)\n",
    "        wf_axs.set_xlabel(\"$x$\")\n",
    "        wf_axs.set_xticks([x for x in range(-6,7)])\n",
    "        wf_axs.set_xticklabels([\"${0}$\".format(x) for x in range(-6,7)])\n",
    "\n",
    "        wf_axs.set_ylim(-1, 1)\n",
    "        wf_axs.set_ylabel(\"$\\mathcal{\\psi}_n(x)$\")\n",
    "        wf_axs.set_yticks([x for x in linspace(-1,1,5)])\n",
    "        wf_axs.set_yticklabels([\"${0:.2f}$\".format(x) for x in linspace(-1,1,5)])\n",
    "\n",
    "        wf_axs.set_title(\"$\\mathrm{Amplitud\\ de\\ probabilidad}\\ \\mathcal{\\psi}_{\" + \"{0}\".format(n) + \"}$\")\n",
    "\n",
    "        wf_axs.legend(loc=4)\n",
    "        wf_axs.grid('on')\n",
    "\n",
    "        # Amplitud de probabilidad Psi^2\n",
    "        df_axs = fig.add_subplot('212')\n",
    "\n",
    "        Y = [Psi(n, x)**2 for x in X]\n",
    "\n",
    "        df_graph = df_axs.fill_between(X, 0, Y, label=\"$\\\\left|\\mathcal{\\psi}_{\" + \"{0}\".format(n) + \"}\\\\right|^{2}$\",\n",
    "                        facecolor=material_palette[n%16], alpha=0.5, color=material_palette[n%16])\n",
    "\n",
    "        df_axs.set_xlim(-6, 6)\n",
    "        df_axs.set_xlabel(\"$x$\")\n",
    "        df_axs.set_xticks([x for x in range(-6,7)])\n",
    "        df_axs.set_xticklabels([\"${0}$\".format(x) for x in range(-6,7)])\n",
    "\n",
    "        df_axs.set_ylim(-1, 1)\n",
    "        df_axs.set_ylabel(\"$\\\\left|\\mathcal{\\psi}_n(x)\\\\right|^{2}$\")\n",
    "        df_axs.set_yticks([x for x in linspace(-1,1,5)])\n",
    "        df_axs.set_yticklabels([\"${0:.2f}$\".format(x) for x in linspace(-1,1,5)])\n",
    "\n",
    "        df_axs.set_title(\"$\\mathrm{Densidad\\ de\\ probabilidad} \\\\left|\\mathcal{\\psi}_{\" + \"{0}\".format(n) + \"}\\\\right|^{2}$\")\n",
    "\n",
    "        df_axs.legend(loc=4)\n",
    "        df_axs.grid('on')\n",
    "        fig.tight_layout()\n",
    "        display(fig)\n",
    "\n",
    "        \n",
    "def update_plot(*args):\n",
    "    n = w_order_slider.value\n",
    "\n",
    "    global X\n",
    "    global fig\n",
    "    global wf_axs\n",
    "    global wf_graph\n",
    "    global df_axs\n",
    "    global df_graph\n",
    "    \n",
    "    fig = figure(2)\n",
    "    \n",
    "    Y = [Psi(n, x)**2 for x in X]\n",
    "    \n",
    "    wf_graph.remove()\n",
    "    wf_graph, = wf_axs.plot(X, Y, label=\"$\\mathcal{\\psi}_{\" + \"{0}\".format(n) + \"}$\", color=material_palette[n%16])\n",
    "    wf_axs.set_title(\"$\\mathrm{Amplitud\\ de\\ probabilidad}\\ \\mathcal{\\psi}_{\" + \"{0}\".format(n) + \"}$\")\n",
    "    wf_axs.legend(loc=4)\n",
    "    \n",
    "    df_graph.remove()\n",
    "    df_graph = df_axs.fill_between(X, 0, Y, label=\"$\\\\left|\\mathcal{\\psi}_{\" + \"{0}\".format(n) + \"}\\\\right|^{2}$\",\n",
    "                        facecolor=material_palette[n%16], alpha=0.5, color=material_palette[n%16])\n",
    "    df_axs.set_title(\"$\\mathrm{Densidad\\ de\\ probabilidad} \\\\left|\\mathcal{\\psi}_{\" + \"{0}\".format(n) + \"}\\\\right|^{2}$\")\n",
    "    df_axs.legend(loc=4)\n",
    "    \n",
    "    fig.canvas.draw()\n",
    "    \n",
    "\n",
    "w_order_slider.observe(update_plot, 'value')\n",
    "w_order_next.on_click(update_slider)\n",
    "w_order_prev.on_click(update_slider)\n",
    "\n",
    "wc_container.on_displayed(make_plot)\n",
    "\n",
    "display(wc_container);"
   ]
  },
  {
   "cell_type": "markdown",
   "metadata": {},
   "source": [
    "#### Neat Example!"
   ]
  },
  {
   "cell_type": "markdown",
   "metadata": {},
   "source": [
    "El siguiente gráfico muesta las funciones de densidad de probabilidad dentro del pozo potencial del oscilador armnónico."
   ]
  },
  {
   "cell_type": "code",
   "execution_count": 9,
   "metadata": {},
   "outputs": [
    {
     "data": {
      "application/javascript": [
       "/* Put everything inside the global mpl namespace */\n",
       "window.mpl = {};\n",
       "\n",
       "\n",
       "mpl.get_websocket_type = function() {\n",
       "    if (typeof(WebSocket) !== 'undefined') {\n",
       "        return WebSocket;\n",
       "    } else if (typeof(MozWebSocket) !== 'undefined') {\n",
       "        return MozWebSocket;\n",
       "    } else {\n",
       "        alert('Your browser does not have WebSocket support.' +\n",
       "              'Please try Chrome, Safari or Firefox ≥ 6. ' +\n",
       "              'Firefox 4 and 5 are also supported but you ' +\n",
       "              'have to enable WebSockets in about:config.');\n",
       "    };\n",
       "}\n",
       "\n",
       "mpl.figure = function(figure_id, websocket, ondownload, parent_element) {\n",
       "    this.id = figure_id;\n",
       "\n",
       "    this.ws = websocket;\n",
       "\n",
       "    this.supports_binary = (this.ws.binaryType != undefined);\n",
       "\n",
       "    if (!this.supports_binary) {\n",
       "        var warnings = document.getElementById(\"mpl-warnings\");\n",
       "        if (warnings) {\n",
       "            warnings.style.display = 'block';\n",
       "            warnings.textContent = (\n",
       "                \"This browser does not support binary websocket messages. \" +\n",
       "                    \"Performance may be slow.\");\n",
       "        }\n",
       "    }\n",
       "\n",
       "    this.imageObj = new Image();\n",
       "\n",
       "    this.context = undefined;\n",
       "    this.message = undefined;\n",
       "    this.canvas = undefined;\n",
       "    this.rubberband_canvas = undefined;\n",
       "    this.rubberband_context = undefined;\n",
       "    this.format_dropdown = undefined;\n",
       "\n",
       "    this.image_mode = 'full';\n",
       "\n",
       "    this.root = $('<div/>');\n",
       "    this._root_extra_style(this.root)\n",
       "    this.root.attr('style', 'display: inline-block');\n",
       "\n",
       "    $(parent_element).append(this.root);\n",
       "\n",
       "    this._init_header(this);\n",
       "    this._init_canvas(this);\n",
       "    this._init_toolbar(this);\n",
       "\n",
       "    var fig = this;\n",
       "\n",
       "    this.waiting = false;\n",
       "\n",
       "    this.ws.onopen =  function () {\n",
       "            fig.send_message(\"supports_binary\", {value: fig.supports_binary});\n",
       "            fig.send_message(\"send_image_mode\", {});\n",
       "            if (mpl.ratio != 1) {\n",
       "                fig.send_message(\"set_dpi_ratio\", {'dpi_ratio': mpl.ratio});\n",
       "            }\n",
       "            fig.send_message(\"refresh\", {});\n",
       "        }\n",
       "\n",
       "    this.imageObj.onload = function() {\n",
       "            if (fig.image_mode == 'full') {\n",
       "                // Full images could contain transparency (where diff images\n",
       "                // almost always do), so we need to clear the canvas so that\n",
       "                // there is no ghosting.\n",
       "                fig.context.clearRect(0, 0, fig.canvas.width, fig.canvas.height);\n",
       "            }\n",
       "            fig.context.drawImage(fig.imageObj, 0, 0);\n",
       "        };\n",
       "\n",
       "    this.imageObj.onunload = function() {\n",
       "        this.ws.close();\n",
       "    }\n",
       "\n",
       "    this.ws.onmessage = this._make_on_message_function(this);\n",
       "\n",
       "    this.ondownload = ondownload;\n",
       "}\n",
       "\n",
       "mpl.figure.prototype._init_header = function() {\n",
       "    var titlebar = $(\n",
       "        '<div class=\"ui-dialog-titlebar ui-widget-header ui-corner-all ' +\n",
       "        'ui-helper-clearfix\"/>');\n",
       "    var titletext = $(\n",
       "        '<div class=\"ui-dialog-title\" style=\"width: 100%; ' +\n",
       "        'text-align: center; padding: 3px;\"/>');\n",
       "    titlebar.append(titletext)\n",
       "    this.root.append(titlebar);\n",
       "    this.header = titletext[0];\n",
       "}\n",
       "\n",
       "\n",
       "\n",
       "mpl.figure.prototype._canvas_extra_style = function(canvas_div) {\n",
       "\n",
       "}\n",
       "\n",
       "\n",
       "mpl.figure.prototype._root_extra_style = function(canvas_div) {\n",
       "\n",
       "}\n",
       "\n",
       "mpl.figure.prototype._init_canvas = function() {\n",
       "    var fig = this;\n",
       "\n",
       "    var canvas_div = $('<div/>');\n",
       "\n",
       "    canvas_div.attr('style', 'position: relative; clear: both; outline: 0');\n",
       "\n",
       "    function canvas_keyboard_event(event) {\n",
       "        return fig.key_event(event, event['data']);\n",
       "    }\n",
       "\n",
       "    canvas_div.keydown('key_press', canvas_keyboard_event);\n",
       "    canvas_div.keyup('key_release', canvas_keyboard_event);\n",
       "    this.canvas_div = canvas_div\n",
       "    this._canvas_extra_style(canvas_div)\n",
       "    this.root.append(canvas_div);\n",
       "\n",
       "    var canvas = $('<canvas/>');\n",
       "    canvas.addClass('mpl-canvas');\n",
       "    canvas.attr('style', \"left: 0; top: 0; z-index: 0; outline: 0\")\n",
       "\n",
       "    this.canvas = canvas[0];\n",
       "    this.context = canvas[0].getContext(\"2d\");\n",
       "\n",
       "    var backingStore = this.context.backingStorePixelRatio ||\n",
       "\tthis.context.webkitBackingStorePixelRatio ||\n",
       "\tthis.context.mozBackingStorePixelRatio ||\n",
       "\tthis.context.msBackingStorePixelRatio ||\n",
       "\tthis.context.oBackingStorePixelRatio ||\n",
       "\tthis.context.backingStorePixelRatio || 1;\n",
       "\n",
       "    mpl.ratio = (window.devicePixelRatio || 1) / backingStore;\n",
       "\n",
       "    var rubberband = $('<canvas/>');\n",
       "    rubberband.attr('style', \"position: absolute; left: 0; top: 0; z-index: 1;\")\n",
       "\n",
       "    var pass_mouse_events = true;\n",
       "\n",
       "    canvas_div.resizable({\n",
       "        start: function(event, ui) {\n",
       "            pass_mouse_events = false;\n",
       "        },\n",
       "        resize: function(event, ui) {\n",
       "            fig.request_resize(ui.size.width, ui.size.height);\n",
       "        },\n",
       "        stop: function(event, ui) {\n",
       "            pass_mouse_events = true;\n",
       "            fig.request_resize(ui.size.width, ui.size.height);\n",
       "        },\n",
       "    });\n",
       "\n",
       "    function mouse_event_fn(event) {\n",
       "        if (pass_mouse_events)\n",
       "            return fig.mouse_event(event, event['data']);\n",
       "    }\n",
       "\n",
       "    rubberband.mousedown('button_press', mouse_event_fn);\n",
       "    rubberband.mouseup('button_release', mouse_event_fn);\n",
       "    // Throttle sequential mouse events to 1 every 20ms.\n",
       "    rubberband.mousemove('motion_notify', mouse_event_fn);\n",
       "\n",
       "    rubberband.mouseenter('figure_enter', mouse_event_fn);\n",
       "    rubberband.mouseleave('figure_leave', mouse_event_fn);\n",
       "\n",
       "    canvas_div.on(\"wheel\", function (event) {\n",
       "        event = event.originalEvent;\n",
       "        event['data'] = 'scroll'\n",
       "        if (event.deltaY < 0) {\n",
       "            event.step = 1;\n",
       "        } else {\n",
       "            event.step = -1;\n",
       "        }\n",
       "        mouse_event_fn(event);\n",
       "    });\n",
       "\n",
       "    canvas_div.append(canvas);\n",
       "    canvas_div.append(rubberband);\n",
       "\n",
       "    this.rubberband = rubberband;\n",
       "    this.rubberband_canvas = rubberband[0];\n",
       "    this.rubberband_context = rubberband[0].getContext(\"2d\");\n",
       "    this.rubberband_context.strokeStyle = \"#000000\";\n",
       "\n",
       "    this._resize_canvas = function(width, height) {\n",
       "        // Keep the size of the canvas, canvas container, and rubber band\n",
       "        // canvas in synch.\n",
       "        canvas_div.css('width', width)\n",
       "        canvas_div.css('height', height)\n",
       "\n",
       "        canvas.attr('width', width * mpl.ratio);\n",
       "        canvas.attr('height', height * mpl.ratio);\n",
       "        canvas.attr('style', 'width: ' + width + 'px; height: ' + height + 'px;');\n",
       "\n",
       "        rubberband.attr('width', width);\n",
       "        rubberband.attr('height', height);\n",
       "    }\n",
       "\n",
       "    // Set the figure to an initial 600x600px, this will subsequently be updated\n",
       "    // upon first draw.\n",
       "    this._resize_canvas(600, 600);\n",
       "\n",
       "    // Disable right mouse context menu.\n",
       "    $(this.rubberband_canvas).bind(\"contextmenu\",function(e){\n",
       "        return false;\n",
       "    });\n",
       "\n",
       "    function set_focus () {\n",
       "        canvas.focus();\n",
       "        canvas_div.focus();\n",
       "    }\n",
       "\n",
       "    window.setTimeout(set_focus, 100);\n",
       "}\n",
       "\n",
       "mpl.figure.prototype._init_toolbar = function() {\n",
       "    var fig = this;\n",
       "\n",
       "    var nav_element = $('<div/>')\n",
       "    nav_element.attr('style', 'width: 100%');\n",
       "    this.root.append(nav_element);\n",
       "\n",
       "    // Define a callback function for later on.\n",
       "    function toolbar_event(event) {\n",
       "        return fig.toolbar_button_onclick(event['data']);\n",
       "    }\n",
       "    function toolbar_mouse_event(event) {\n",
       "        return fig.toolbar_button_onmouseover(event['data']);\n",
       "    }\n",
       "\n",
       "    for(var toolbar_ind in mpl.toolbar_items) {\n",
       "        var name = mpl.toolbar_items[toolbar_ind][0];\n",
       "        var tooltip = mpl.toolbar_items[toolbar_ind][1];\n",
       "        var image = mpl.toolbar_items[toolbar_ind][2];\n",
       "        var method_name = mpl.toolbar_items[toolbar_ind][3];\n",
       "\n",
       "        if (!name) {\n",
       "            // put a spacer in here.\n",
       "            continue;\n",
       "        }\n",
       "        var button = $('<button/>');\n",
       "        button.addClass('ui-button ui-widget ui-state-default ui-corner-all ' +\n",
       "                        'ui-button-icon-only');\n",
       "        button.attr('role', 'button');\n",
       "        button.attr('aria-disabled', 'false');\n",
       "        button.click(method_name, toolbar_event);\n",
       "        button.mouseover(tooltip, toolbar_mouse_event);\n",
       "\n",
       "        var icon_img = $('<span/>');\n",
       "        icon_img.addClass('ui-button-icon-primary ui-icon');\n",
       "        icon_img.addClass(image);\n",
       "        icon_img.addClass('ui-corner-all');\n",
       "\n",
       "        var tooltip_span = $('<span/>');\n",
       "        tooltip_span.addClass('ui-button-text');\n",
       "        tooltip_span.html(tooltip);\n",
       "\n",
       "        button.append(icon_img);\n",
       "        button.append(tooltip_span);\n",
       "\n",
       "        nav_element.append(button);\n",
       "    }\n",
       "\n",
       "    var fmt_picker_span = $('<span/>');\n",
       "\n",
       "    var fmt_picker = $('<select/>');\n",
       "    fmt_picker.addClass('mpl-toolbar-option ui-widget ui-widget-content');\n",
       "    fmt_picker_span.append(fmt_picker);\n",
       "    nav_element.append(fmt_picker_span);\n",
       "    this.format_dropdown = fmt_picker[0];\n",
       "\n",
       "    for (var ind in mpl.extensions) {\n",
       "        var fmt = mpl.extensions[ind];\n",
       "        var option = $(\n",
       "            '<option/>', {selected: fmt === mpl.default_extension}).html(fmt);\n",
       "        fmt_picker.append(option)\n",
       "    }\n",
       "\n",
       "    // Add hover states to the ui-buttons\n",
       "    $( \".ui-button\" ).hover(\n",
       "        function() { $(this).addClass(\"ui-state-hover\");},\n",
       "        function() { $(this).removeClass(\"ui-state-hover\");}\n",
       "    );\n",
       "\n",
       "    var status_bar = $('<span class=\"mpl-message\"/>');\n",
       "    nav_element.append(status_bar);\n",
       "    this.message = status_bar[0];\n",
       "}\n",
       "\n",
       "mpl.figure.prototype.request_resize = function(x_pixels, y_pixels) {\n",
       "    // Request matplotlib to resize the figure. Matplotlib will then trigger a resize in the client,\n",
       "    // which will in turn request a refresh of the image.\n",
       "    this.send_message('resize', {'width': x_pixels, 'height': y_pixels});\n",
       "}\n",
       "\n",
       "mpl.figure.prototype.send_message = function(type, properties) {\n",
       "    properties['type'] = type;\n",
       "    properties['figure_id'] = this.id;\n",
       "    this.ws.send(JSON.stringify(properties));\n",
       "}\n",
       "\n",
       "mpl.figure.prototype.send_draw_message = function() {\n",
       "    if (!this.waiting) {\n",
       "        this.waiting = true;\n",
       "        this.ws.send(JSON.stringify({type: \"draw\", figure_id: this.id}));\n",
       "    }\n",
       "}\n",
       "\n",
       "\n",
       "mpl.figure.prototype.handle_save = function(fig, msg) {\n",
       "    var format_dropdown = fig.format_dropdown;\n",
       "    var format = format_dropdown.options[format_dropdown.selectedIndex].value;\n",
       "    fig.ondownload(fig, format);\n",
       "}\n",
       "\n",
       "\n",
       "mpl.figure.prototype.handle_resize = function(fig, msg) {\n",
       "    var size = msg['size'];\n",
       "    if (size[0] != fig.canvas.width || size[1] != fig.canvas.height) {\n",
       "        fig._resize_canvas(size[0], size[1]);\n",
       "        fig.send_message(\"refresh\", {});\n",
       "    };\n",
       "}\n",
       "\n",
       "mpl.figure.prototype.handle_rubberband = function(fig, msg) {\n",
       "    var x0 = msg['x0'] / mpl.ratio;\n",
       "    var y0 = (fig.canvas.height - msg['y0']) / mpl.ratio;\n",
       "    var x1 = msg['x1'] / mpl.ratio;\n",
       "    var y1 = (fig.canvas.height - msg['y1']) / mpl.ratio;\n",
       "    x0 = Math.floor(x0) + 0.5;\n",
       "    y0 = Math.floor(y0) + 0.5;\n",
       "    x1 = Math.floor(x1) + 0.5;\n",
       "    y1 = Math.floor(y1) + 0.5;\n",
       "    var min_x = Math.min(x0, x1);\n",
       "    var min_y = Math.min(y0, y1);\n",
       "    var width = Math.abs(x1 - x0);\n",
       "    var height = Math.abs(y1 - y0);\n",
       "\n",
       "    fig.rubberband_context.clearRect(\n",
       "        0, 0, fig.canvas.width, fig.canvas.height);\n",
       "\n",
       "    fig.rubberband_context.strokeRect(min_x, min_y, width, height);\n",
       "}\n",
       "\n",
       "mpl.figure.prototype.handle_figure_label = function(fig, msg) {\n",
       "    // Updates the figure title.\n",
       "    fig.header.textContent = msg['label'];\n",
       "}\n",
       "\n",
       "mpl.figure.prototype.handle_cursor = function(fig, msg) {\n",
       "    var cursor = msg['cursor'];\n",
       "    switch(cursor)\n",
       "    {\n",
       "    case 0:\n",
       "        cursor = 'pointer';\n",
       "        break;\n",
       "    case 1:\n",
       "        cursor = 'default';\n",
       "        break;\n",
       "    case 2:\n",
       "        cursor = 'crosshair';\n",
       "        break;\n",
       "    case 3:\n",
       "        cursor = 'move';\n",
       "        break;\n",
       "    }\n",
       "    fig.rubberband_canvas.style.cursor = cursor;\n",
       "}\n",
       "\n",
       "mpl.figure.prototype.handle_message = function(fig, msg) {\n",
       "    fig.message.textContent = msg['message'];\n",
       "}\n",
       "\n",
       "mpl.figure.prototype.handle_draw = function(fig, msg) {\n",
       "    // Request the server to send over a new figure.\n",
       "    fig.send_draw_message();\n",
       "}\n",
       "\n",
       "mpl.figure.prototype.handle_image_mode = function(fig, msg) {\n",
       "    fig.image_mode = msg['mode'];\n",
       "}\n",
       "\n",
       "mpl.figure.prototype.updated_canvas_event = function() {\n",
       "    // Called whenever the canvas gets updated.\n",
       "    this.send_message(\"ack\", {});\n",
       "}\n",
       "\n",
       "// A function to construct a web socket function for onmessage handling.\n",
       "// Called in the figure constructor.\n",
       "mpl.figure.prototype._make_on_message_function = function(fig) {\n",
       "    return function socket_on_message(evt) {\n",
       "        if (evt.data instanceof Blob) {\n",
       "            /* FIXME: We get \"Resource interpreted as Image but\n",
       "             * transferred with MIME type text/plain:\" errors on\n",
       "             * Chrome.  But how to set the MIME type?  It doesn't seem\n",
       "             * to be part of the websocket stream */\n",
       "            evt.data.type = \"image/png\";\n",
       "\n",
       "            /* Free the memory for the previous frames */\n",
       "            if (fig.imageObj.src) {\n",
       "                (window.URL || window.webkitURL).revokeObjectURL(\n",
       "                    fig.imageObj.src);\n",
       "            }\n",
       "\n",
       "            fig.imageObj.src = (window.URL || window.webkitURL).createObjectURL(\n",
       "                evt.data);\n",
       "            fig.updated_canvas_event();\n",
       "            fig.waiting = false;\n",
       "            return;\n",
       "        }\n",
       "        else if (typeof evt.data === 'string' && evt.data.slice(0, 21) == \"data:image/png;base64\") {\n",
       "            fig.imageObj.src = evt.data;\n",
       "            fig.updated_canvas_event();\n",
       "            fig.waiting = false;\n",
       "            return;\n",
       "        }\n",
       "\n",
       "        var msg = JSON.parse(evt.data);\n",
       "        var msg_type = msg['type'];\n",
       "\n",
       "        // Call the  \"handle_{type}\" callback, which takes\n",
       "        // the figure and JSON message as its only arguments.\n",
       "        try {\n",
       "            var callback = fig[\"handle_\" + msg_type];\n",
       "        } catch (e) {\n",
       "            console.log(\"No handler for the '\" + msg_type + \"' message type: \", msg);\n",
       "            return;\n",
       "        }\n",
       "\n",
       "        if (callback) {\n",
       "            try {\n",
       "                // console.log(\"Handling '\" + msg_type + \"' message: \", msg);\n",
       "                callback(fig, msg);\n",
       "            } catch (e) {\n",
       "                console.log(\"Exception inside the 'handler_\" + msg_type + \"' callback:\", e, e.stack, msg);\n",
       "            }\n",
       "        }\n",
       "    };\n",
       "}\n",
       "\n",
       "// from http://stackoverflow.com/questions/1114465/getting-mouse-location-in-canvas\n",
       "mpl.findpos = function(e) {\n",
       "    //this section is from http://www.quirksmode.org/js/events_properties.html\n",
       "    var targ;\n",
       "    if (!e)\n",
       "        e = window.event;\n",
       "    if (e.target)\n",
       "        targ = e.target;\n",
       "    else if (e.srcElement)\n",
       "        targ = e.srcElement;\n",
       "    if (targ.nodeType == 3) // defeat Safari bug\n",
       "        targ = targ.parentNode;\n",
       "\n",
       "    // jQuery normalizes the pageX and pageY\n",
       "    // pageX,Y are the mouse positions relative to the document\n",
       "    // offset() returns the position of the element relative to the document\n",
       "    var x = e.pageX - $(targ).offset().left;\n",
       "    var y = e.pageY - $(targ).offset().top;\n",
       "\n",
       "    return {\"x\": x, \"y\": y};\n",
       "};\n",
       "\n",
       "/*\n",
       " * return a copy of an object with only non-object keys\n",
       " * we need this to avoid circular references\n",
       " * http://stackoverflow.com/a/24161582/3208463\n",
       " */\n",
       "function simpleKeys (original) {\n",
       "  return Object.keys(original).reduce(function (obj, key) {\n",
       "    if (typeof original[key] !== 'object')\n",
       "        obj[key] = original[key]\n",
       "    return obj;\n",
       "  }, {});\n",
       "}\n",
       "\n",
       "mpl.figure.prototype.mouse_event = function(event, name) {\n",
       "    var canvas_pos = mpl.findpos(event)\n",
       "\n",
       "    if (name === 'button_press')\n",
       "    {\n",
       "        this.canvas.focus();\n",
       "        this.canvas_div.focus();\n",
       "    }\n",
       "\n",
       "    var x = canvas_pos.x * mpl.ratio;\n",
       "    var y = canvas_pos.y * mpl.ratio;\n",
       "\n",
       "    this.send_message(name, {x: x, y: y, button: event.button,\n",
       "                             step: event.step,\n",
       "                             guiEvent: simpleKeys(event)});\n",
       "\n",
       "    /* This prevents the web browser from automatically changing to\n",
       "     * the text insertion cursor when the button is pressed.  We want\n",
       "     * to control all of the cursor setting manually through the\n",
       "     * 'cursor' event from matplotlib */\n",
       "    event.preventDefault();\n",
       "    return false;\n",
       "}\n",
       "\n",
       "mpl.figure.prototype._key_event_extra = function(event, name) {\n",
       "    // Handle any extra behaviour associated with a key event\n",
       "}\n",
       "\n",
       "mpl.figure.prototype.key_event = function(event, name) {\n",
       "\n",
       "    // Prevent repeat events\n",
       "    if (name == 'key_press')\n",
       "    {\n",
       "        if (event.which === this._key)\n",
       "            return;\n",
       "        else\n",
       "            this._key = event.which;\n",
       "    }\n",
       "    if (name == 'key_release')\n",
       "        this._key = null;\n",
       "\n",
       "    var value = '';\n",
       "    if (event.ctrlKey && event.which != 17)\n",
       "        value += \"ctrl+\";\n",
       "    if (event.altKey && event.which != 18)\n",
       "        value += \"alt+\";\n",
       "    if (event.shiftKey && event.which != 16)\n",
       "        value += \"shift+\";\n",
       "\n",
       "    value += 'k';\n",
       "    value += event.which.toString();\n",
       "\n",
       "    this._key_event_extra(event, name);\n",
       "\n",
       "    this.send_message(name, {key: value,\n",
       "                             guiEvent: simpleKeys(event)});\n",
       "    return false;\n",
       "}\n",
       "\n",
       "mpl.figure.prototype.toolbar_button_onclick = function(name) {\n",
       "    if (name == 'download') {\n",
       "        this.handle_save(this, null);\n",
       "    } else {\n",
       "        this.send_message(\"toolbar_button\", {name: name});\n",
       "    }\n",
       "};\n",
       "\n",
       "mpl.figure.prototype.toolbar_button_onmouseover = function(tooltip) {\n",
       "    this.message.textContent = tooltip;\n",
       "};\n",
       "mpl.toolbar_items = [[\"Home\", \"Reset original view\", \"fa fa-home icon-home\", \"home\"], [\"Back\", \"Back to  previous view\", \"fa fa-arrow-left icon-arrow-left\", \"back\"], [\"Forward\", \"Forward to next view\", \"fa fa-arrow-right icon-arrow-right\", \"forward\"], [\"\", \"\", \"\", \"\"], [\"Pan\", \"Pan axes with left mouse, zoom with right\", \"fa fa-arrows icon-move\", \"pan\"], [\"Zoom\", \"Zoom to rectangle\", \"fa fa-square-o icon-check-empty\", \"zoom\"], [\"\", \"\", \"\", \"\"], [\"Download\", \"Download plot\", \"fa fa-floppy-o icon-save\", \"download\"]];\n",
       "\n",
       "mpl.extensions = [\"eps\", \"jpeg\", \"pdf\", \"png\", \"ps\", \"raw\", \"svg\", \"tif\"];\n",
       "\n",
       "mpl.default_extension = \"png\";var comm_websocket_adapter = function(comm) {\n",
       "    // Create a \"websocket\"-like object which calls the given IPython comm\n",
       "    // object with the appropriate methods. Currently this is a non binary\n",
       "    // socket, so there is still some room for performance tuning.\n",
       "    var ws = {};\n",
       "\n",
       "    ws.close = function() {\n",
       "        comm.close()\n",
       "    };\n",
       "    ws.send = function(m) {\n",
       "        //console.log('sending', m);\n",
       "        comm.send(m);\n",
       "    };\n",
       "    // Register the callback with on_msg.\n",
       "    comm.on_msg(function(msg) {\n",
       "        //console.log('receiving', msg['content']['data'], msg);\n",
       "        // Pass the mpl event to the overriden (by mpl) onmessage function.\n",
       "        ws.onmessage(msg['content']['data'])\n",
       "    });\n",
       "    return ws;\n",
       "}\n",
       "\n",
       "mpl.mpl_figure_comm = function(comm, msg) {\n",
       "    // This is the function which gets called when the mpl process\n",
       "    // starts-up an IPython Comm through the \"matplotlib\" channel.\n",
       "\n",
       "    var id = msg.content.data.id;\n",
       "    // Get hold of the div created by the display call when the Comm\n",
       "    // socket was opened in Python.\n",
       "    var element = $(\"#\" + id);\n",
       "    var ws_proxy = comm_websocket_adapter(comm)\n",
       "\n",
       "    function ondownload(figure, format) {\n",
       "        window.open(figure.imageObj.src);\n",
       "    }\n",
       "\n",
       "    var fig = new mpl.figure(id, ws_proxy,\n",
       "                           ondownload,\n",
       "                           element.get(0));\n",
       "\n",
       "    // Call onopen now - mpl needs it, as it is assuming we've passed it a real\n",
       "    // web socket which is closed, not our websocket->open comm proxy.\n",
       "    ws_proxy.onopen();\n",
       "\n",
       "    fig.parent_element = element.get(0);\n",
       "    fig.cell_info = mpl.find_output_cell(\"<div id='\" + id + \"'></div>\");\n",
       "    if (!fig.cell_info) {\n",
       "        console.error(\"Failed to find cell for figure\", id, fig);\n",
       "        return;\n",
       "    }\n",
       "\n",
       "    var output_index = fig.cell_info[2]\n",
       "    var cell = fig.cell_info[0];\n",
       "\n",
       "};\n",
       "\n",
       "mpl.figure.prototype.handle_close = function(fig, msg) {\n",
       "    var width = fig.canvas.width/mpl.ratio\n",
       "    fig.root.unbind('remove')\n",
       "\n",
       "    // Update the output cell to use the data from the current canvas.\n",
       "    fig.push_to_output();\n",
       "    var dataURL = fig.canvas.toDataURL();\n",
       "    // Re-enable the keyboard manager in IPython - without this line, in FF,\n",
       "    // the notebook keyboard shortcuts fail.\n",
       "    IPython.keyboard_manager.enable()\n",
       "    $(fig.parent_element).html('<img src=\"' + dataURL + '\" width=\"' + width + '\">');\n",
       "    fig.close_ws(fig, msg);\n",
       "}\n",
       "\n",
       "mpl.figure.prototype.close_ws = function(fig, msg){\n",
       "    fig.send_message('closing', msg);\n",
       "    // fig.ws.close()\n",
       "}\n",
       "\n",
       "mpl.figure.prototype.push_to_output = function(remove_interactive) {\n",
       "    // Turn the data on the canvas into data in the output cell.\n",
       "    var width = this.canvas.width/mpl.ratio\n",
       "    var dataURL = this.canvas.toDataURL();\n",
       "    this.cell_info[1]['text/html'] = '<img src=\"' + dataURL + '\" width=\"' + width + '\">';\n",
       "}\n",
       "\n",
       "mpl.figure.prototype.updated_canvas_event = function() {\n",
       "    // Tell IPython that the notebook contents must change.\n",
       "    IPython.notebook.set_dirty(true);\n",
       "    this.send_message(\"ack\", {});\n",
       "    var fig = this;\n",
       "    // Wait a second, then push the new image to the DOM so\n",
       "    // that it is saved nicely (might be nice to debounce this).\n",
       "    setTimeout(function () { fig.push_to_output() }, 1000);\n",
       "}\n",
       "\n",
       "mpl.figure.prototype._init_toolbar = function() {\n",
       "    var fig = this;\n",
       "\n",
       "    var nav_element = $('<div/>')\n",
       "    nav_element.attr('style', 'width: 100%');\n",
       "    this.root.append(nav_element);\n",
       "\n",
       "    // Define a callback function for later on.\n",
       "    function toolbar_event(event) {\n",
       "        return fig.toolbar_button_onclick(event['data']);\n",
       "    }\n",
       "    function toolbar_mouse_event(event) {\n",
       "        return fig.toolbar_button_onmouseover(event['data']);\n",
       "    }\n",
       "\n",
       "    for(var toolbar_ind in mpl.toolbar_items){\n",
       "        var name = mpl.toolbar_items[toolbar_ind][0];\n",
       "        var tooltip = mpl.toolbar_items[toolbar_ind][1];\n",
       "        var image = mpl.toolbar_items[toolbar_ind][2];\n",
       "        var method_name = mpl.toolbar_items[toolbar_ind][3];\n",
       "\n",
       "        if (!name) { continue; };\n",
       "\n",
       "        var button = $('<button class=\"btn btn-default\" href=\"#\" title=\"' + name + '\"><i class=\"fa ' + image + ' fa-lg\"></i></button>');\n",
       "        button.click(method_name, toolbar_event);\n",
       "        button.mouseover(tooltip, toolbar_mouse_event);\n",
       "        nav_element.append(button);\n",
       "    }\n",
       "\n",
       "    // Add the status bar.\n",
       "    var status_bar = $('<span class=\"mpl-message\" style=\"text-align:right; float: right;\"/>');\n",
       "    nav_element.append(status_bar);\n",
       "    this.message = status_bar[0];\n",
       "\n",
       "    // Add the close button to the window.\n",
       "    var buttongrp = $('<div class=\"btn-group inline pull-right\"></div>');\n",
       "    var button = $('<button class=\"btn btn-mini btn-primary\" href=\"#\" title=\"Stop Interaction\"><i class=\"fa fa-power-off icon-remove icon-large\"></i></button>');\n",
       "    button.click(function (evt) { fig.handle_close(fig, {}); } );\n",
       "    button.mouseover('Stop Interaction', toolbar_mouse_event);\n",
       "    buttongrp.append(button);\n",
       "    var titlebar = this.root.find($('.ui-dialog-titlebar'));\n",
       "    titlebar.prepend(buttongrp);\n",
       "}\n",
       "\n",
       "mpl.figure.prototype._root_extra_style = function(el){\n",
       "    var fig = this\n",
       "    el.on(\"remove\", function(){\n",
       "\tfig.close_ws(fig, {});\n",
       "    });\n",
       "}\n",
       "\n",
       "mpl.figure.prototype._canvas_extra_style = function(el){\n",
       "    // this is important to make the div 'focusable\n",
       "    el.attr('tabindex', 0)\n",
       "    // reach out to IPython and tell the keyboard manager to turn it's self\n",
       "    // off when our div gets focus\n",
       "\n",
       "    // location in version 3\n",
       "    if (IPython.notebook.keyboard_manager) {\n",
       "        IPython.notebook.keyboard_manager.register_events(el);\n",
       "    }\n",
       "    else {\n",
       "        // location in version 2\n",
       "        IPython.keyboard_manager.register_events(el);\n",
       "    }\n",
       "\n",
       "}\n",
       "\n",
       "mpl.figure.prototype._key_event_extra = function(event, name) {\n",
       "    var manager = IPython.notebook.keyboard_manager;\n",
       "    if (!manager)\n",
       "        manager = IPython.keyboard_manager;\n",
       "\n",
       "    // Check for shift+enter\n",
       "    if (event.shiftKey && event.which == 13) {\n",
       "        this.canvas_div.blur();\n",
       "        // select the cell after this one\n",
       "        var index = IPython.notebook.find_cell_index(this.cell_info[0]);\n",
       "        IPython.notebook.select(index + 1);\n",
       "    }\n",
       "}\n",
       "\n",
       "mpl.figure.prototype.handle_save = function(fig, msg) {\n",
       "    fig.ondownload(fig, null);\n",
       "}\n",
       "\n",
       "\n",
       "mpl.find_output_cell = function(html_output) {\n",
       "    // Return the cell and output element which can be found *uniquely* in the notebook.\n",
       "    // Note - this is a bit hacky, but it is done because the \"notebook_saving.Notebook\"\n",
       "    // IPython event is triggered only after the cells have been serialised, which for\n",
       "    // our purposes (turning an active figure into a static one), is too late.\n",
       "    var cells = IPython.notebook.get_cells();\n",
       "    var ncells = cells.length;\n",
       "    for (var i=0; i<ncells; i++) {\n",
       "        var cell = cells[i];\n",
       "        if (cell.cell_type === 'code'){\n",
       "            for (var j=0; j<cell.output_area.outputs.length; j++) {\n",
       "                var data = cell.output_area.outputs[j];\n",
       "                if (data.data) {\n",
       "                    // IPython >= 3 moved mimebundle to data attribute of output\n",
       "                    data = data.data;\n",
       "                }\n",
       "                if (data['text/html'] == html_output) {\n",
       "                    return [cell, data, j];\n",
       "                }\n",
       "            }\n",
       "        }\n",
       "    }\n",
       "}\n",
       "\n",
       "// Register the function which deals with the matplotlib target/channel.\n",
       "// The kernel may be null if the page has been refreshed.\n",
       "if (IPython.notebook.kernel != null) {\n",
       "    IPython.notebook.kernel.comm_manager.register_target('matplotlib', mpl.mpl_figure_comm);\n",
       "}\n"
      ],
      "text/plain": [
       "<IPython.core.display.Javascript object>"
      ]
     },
     "metadata": {},
     "output_type": "display_data"
    },
    {
     "data": {
      "text/html": [
       "<img src=\"data:image/png;base64,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\" width=\"975\">"
      ],
      "text/plain": [
       "<IPython.core.display.HTML object>"
      ]
     },
     "metadata": {},
     "output_type": "display_data"
    }
   ],
   "source": [
    "fig = figure(3, figsize=(9.75, 6.50), frameon=False)\n",
    "\n",
    "axs = fig.add_subplot('111')\n",
    "\n",
    "X = linspace(-6, 6, 300)\n",
    "Y = [0.5*x**2 for x in X]\n",
    "\n",
    "axs.plot(X, Y, label=\"$\\mathcal{V}(x)=\\\\frac{1}{2}x^{2}$\", color=material_palette[-1], alpha=0.5, linewidth=1)\n",
    "\n",
    "\n",
    "for n in range(13):\n",
    "    X = linspace(-6, 6, 300)\n",
    "    Y = [Psi(n, x)**2 + n + 0.5 for x in X]\n",
    "    \n",
    "    axs.fill_between(X, n+0.5, Y, label=\"$\\\\left|\\mathcal{\\psi}_{\" + \"{0}\".format(n) + \"}\\\\right|^{2}$\",\n",
    "                    facecolor=material_palette[n%16], alpha=0.5, color=material_palette[n%16] )\n",
    "\n",
    "axs.set_xlim(-6, 6)\n",
    "axs.set_xlabel(\"$x$\")\n",
    "axs.set_xticks([x for x in range(-6,7)])\n",
    "axs.set_xticklabels([\"${0}$\".format(x) for x in range(-6,7)])\n",
    "\n",
    "axs.set_ylim(-0.5, 13.5)\n",
    "axs.set_ylabel(\"$\\\\left|\\mathcal{\\psi}_n(x)\\\\right|^{2} + n + \\\\frac{1}{2}$\")\n",
    "axs.set_yticks(linspace(-0.5,13.5,15))\n",
    "axs.set_yticklabels([\"${0:.2f}$\".format(y) for y in linspace(-0.5,13.5,15)])\n",
    "\n",
    "axs.set_title(\"$\\mathrm{Densidad\\ de\\ probabilidad\\ dentro\\ del\\ pozo\\ potencial}$\", position=(0.5, 1.15))\n",
    "\n",
    "axs.legend(loc=10, ncol=7, bbox_to_anchor=(0.5, 1.1), frameon=True)\n",
    "\n",
    "axs.grid('on')\n",
    "\n",
    "fig.tight_layout()    \n",
    "show()"
   ]
  }
 ],
 "metadata": {
  "anaconda-cloud": {},
  "kernelspec": {
   "display_name": "Python 3",
   "language": "python",
   "name": "python3"
  },
  "language_info": {
   "codemirror_mode": {
    "name": "ipython",
    "version": 3
   },
   "file_extension": ".py",
   "mimetype": "text/x-python",
   "name": "python",
   "nbconvert_exporter": "python",
   "pygments_lexer": "ipython3",
   "version": "3.6.1"
  },
  "widgets": {
   "application/vnd.jupyter.widget-state+json": {
    "state": {
     "016647066783412b8f39b5fcac1f10be": {
      "model_module": "jupyter-js-widgets",
      "model_module_version": "~2.1.4",
      "model_name": "ButtonModel",
      "state": {
       "_model_module_version": "~2.1.4",
       "_view_module_version": "~2.1.4",
       "icon": "step-forward",
       "layout": "IPY_MODEL_d50bbd3fc65049d1b70d8f77850f87dc",
       "style": "IPY_MODEL_8a7fec7f39874a338eb1ab44dbee8310"
      }
     },
     "175b07a878eb4067bc34673e3c145d80": {
      "model_module": "jupyter-js-widgets",
      "model_module_version": "~2.1.4",
      "model_name": "LayoutModel",
      "state": {
       "_model_module_version": "~2.1.4",
       "_view_module_version": "~2.1.4",
       "width": "100px"
      }
     },
     "2d39e934486d471b852152f46c0d2e2a": {
      "model_module": "jupyter-js-widgets",
      "model_module_version": "~2.1.4",
      "model_name": "ButtonModel",
      "state": {
       "_model_module_version": "~2.1.4",
       "_view_module_version": "~2.1.4",
       "icon": "step-backward",
       "layout": "IPY_MODEL_38e811df82e448678fed162c323086fc",
       "style": "IPY_MODEL_f5133cdbbf2d4b3ba50826e6e931b43d"
      }
     },
     "31a2cf109e4642568207fc588eddc62f": {
      "model_module": "jupyter-js-widgets",
      "model_module_version": "~2.1.4",
      "model_name": "LayoutModel",
      "state": {
       "_model_module_version": "~2.1.4",
       "_view_module_version": "~2.1.4"
      }
     },
     "38e811df82e448678fed162c323086fc": {
      "model_module": "jupyter-js-widgets",
      "model_module_version": "~2.1.4",
      "model_name": "LayoutModel",
      "state": {
       "_model_module_version": "~2.1.4",
       "_view_module_version": "~2.1.4",
       "width": "45.3333px"
      }
     },
     "499bfd05335e4f8d898346daa5c6035b": {
      "model_module": "jupyter-js-widgets",
      "model_module_version": "~2.1.4",
      "model_name": "HBoxModel",
      "state": {
       "_model_module_version": "~2.1.4",
       "_view_module_version": "~2.1.4",
       "children": [
        "IPY_MODEL_dacdd914e5834bdc88d84ea31533b02b",
        "IPY_MODEL_4fb19230a0f64ca0bfc834bce253f6a8",
        "IPY_MODEL_2d39e934486d471b852152f46c0d2e2a",
        "IPY_MODEL_016647066783412b8f39b5fcac1f10be"
       ],
       "layout": "IPY_MODEL_9447f0c63088459189b140c927ea187f"
      }
     },
     "4fb19230a0f64ca0bfc834bce253f6a8": {
      "model_module": "jupyter-js-widgets",
      "model_module_version": "~2.1.4",
      "model_name": "IntSliderModel",
      "state": {
       "_model_module_version": "~2.1.4",
       "_view_module_version": "~2.1.4",
       "layout": "IPY_MODEL_5e162dcea7bc47e885730c6d6a90a01e",
       "max": 12,
       "style": "IPY_MODEL_87136b52221d4de9bde0864a6bc60a04"
      }
     },
     "5e162dcea7bc47e885730c6d6a90a01e": {
      "model_module": "jupyter-js-widgets",
      "model_module_version": "~2.1.4",
      "model_name": "LayoutModel",
      "state": {
       "_model_module_version": "~2.1.4",
       "_view_module_version": "~2.1.4"
      }
     },
     "87136b52221d4de9bde0864a6bc60a04": {
      "model_module": "jupyter-js-widgets",
      "model_module_version": "~2.1.4",
      "model_name": "SliderStyleModel",
      "state": {
       "_model_module_version": "~2.1.4",
       "_view_module_version": "~2.1.4"
      }
     },
     "8a7fec7f39874a338eb1ab44dbee8310": {
      "model_module": "jupyter-js-widgets",
      "model_module_version": "~2.1.4",
      "model_name": "ButtonStyleModel",
      "state": {
       "_model_module_version": "~2.1.4",
       "_view_module_version": "~2.1.4"
      }
     },
     "9447f0c63088459189b140c927ea187f": {
      "model_module": "jupyter-js-widgets",
      "model_module_version": "~2.1.4",
      "model_name": "LayoutModel",
      "state": {
       "_model_module_version": "~2.1.4",
       "_view_module_version": "~2.1.4"
      }
     },
     "a7fb6472e19f4adc9d2c66075592aeba": {
      "model_module": "jupyter-js-widgets",
      "model_module_version": "~2.1.4",
      "model_name": "OutputModel",
      "state": {
       "_dom_classes": [],
       "_model_module": "jupyter-js-widgets",
       "_model_module_version": "~2.1.4",
       "_view_module": "jupyter-js-widgets",
       "_view_module_version": "~2.1.4",
       "layout": "IPY_MODEL_c0969346ad8846fc83a62d5d508bab96",
       "msg_throttle": 1
      }
     },
     "c0969346ad8846fc83a62d5d508bab96": {
      "model_module": "jupyter-js-widgets",
      "model_module_version": "~2.1.4",
      "model_name": "LayoutModel",
      "state": {
       "_model_module_version": "~2.1.4",
       "_view_module_version": "~2.1.4",
       "height": "770px"
      }
     },
     "c765b953a0e64d01b0fb32f64f83a84b": {
      "model_module": "jupyter-js-widgets",
      "model_module_version": "~2.1.4",
      "model_name": "VBoxModel",
      "state": {
       "_model_module_version": "~2.1.4",
       "_view_module_version": "~2.1.4",
       "children": [
        "IPY_MODEL_499bfd05335e4f8d898346daa5c6035b",
        "IPY_MODEL_a7fb6472e19f4adc9d2c66075592aeba"
       ],
       "layout": "IPY_MODEL_31a2cf109e4642568207fc588eddc62f"
      }
     },
     "d50bbd3fc65049d1b70d8f77850f87dc": {
      "model_module": "jupyter-js-widgets",
      "model_module_version": "~2.1.4",
      "model_name": "LayoutModel",
      "state": {
       "_model_module_version": "~2.1.4",
       "_view_module_version": "~2.1.4",
       "width": "45.3333px"
      }
     },
     "dacdd914e5834bdc88d84ea31533b02b": {
      "model_module": "jupyter-js-widgets",
      "model_module_version": "~2.1.4",
      "model_name": "LabelModel",
      "state": {
       "_model_module_version": "~2.1.4",
       "_view_module_version": "~2.1.4",
       "layout": "IPY_MODEL_175b07a878eb4067bc34673e3c145d80",
       "value": "Orden"
      }
     },
     "f5133cdbbf2d4b3ba50826e6e931b43d": {
      "model_module": "jupyter-js-widgets",
      "model_module_version": "~2.1.4",
      "model_name": "ButtonStyleModel",
      "state": {
       "_model_module_version": "~2.1.4",
       "_view_module_version": "~2.1.4"
      }
     }
    },
    "version_major": 1,
    "version_minor": 0
   }
  }
 },
 "nbformat": 4,
 "nbformat_minor": 2
}
