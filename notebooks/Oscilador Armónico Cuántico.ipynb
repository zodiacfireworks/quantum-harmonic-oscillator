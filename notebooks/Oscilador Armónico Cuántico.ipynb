{
 "cells": [
  {
   "cell_type": "markdown",
   "metadata": {},
   "source": [
    "# <center>El Oscilador Armónico en Mecánica Cuántica</center>"
   ]
  },
  {
   "cell_type": "markdown",
   "metadata": {},
   "source": [
    "<center>\n",
    "**Por Martín Josemaría Vuelta Rojas**<br/>\n",
    "`martin.vuelta@gmail.com`<br/><br/>\n",
    "*Escuela Académico Profesional de Física*<br/>\n",
    "*Facultad de Ciencias Físicas*<br/>\n",
    "*Universidad Nacional Mayor de San Marcos*<br/>\n",
    "</center>"
   ]
  },
  {
   "cell_type": "markdown",
   "metadata": {},
   "source": [
    "<center>\n",
    "**Resumen**\n",
    "</center>\n",
    "<p style=\"text-align:justify\">\n",
    "En muchos problemas de la Física se está interesado en analizar situaciones en las cua-les el sistema está levemente fuera del equilibrio. En estos casos el problema, general-mente, se puede describir como un conjunto de osciladores independientes. Esta forma de proceder es válida tanto en la Mecánica Clásica  como en la Mecánica Cuántica, y es el formalismo que debe usarse para estudiar las oscilaciones de núcleos, moléculas y sólidos. En el presente documento presentamos un tratamiento detallado para el problema del oscilador armónico cuántico presentándose su solución analítica así como una implementación directa, en lenguaje C++, de las autofunciones obtenidas. Los resultados que se obtienen son básicamente los gráficos correspondientes a las autofunciones y a las densidades de probabilidad para algunos niveles de energía.\n",
    "</p>\n",
    "<p>\n",
    "_**Frases y palabras clave:** Mecánica Cuántica, Oscilador Armónico, Polinomios de Hermite._\n",
    "</p>"
   ]
  },
  {
   "cell_type": "markdown",
   "metadata": {},
   "source": [
    "## El oscilador Armónico en Mecánica Clásica"
   ]
  },
  {
   "cell_type": "markdown",
   "metadata": {},
   "source": [
    "<p style=\"text-align:justify\">\n",
    "Un sistema de gran importancia en la Física es el oscilador armónico u oscilador lineal cuya ecuación es\n",
    "</p>\n",
    "\n",
    "<p>\n",
    "<span id=\"ec001\" style=\"float:right;\">(1)</span>\n",
    "$$\n",
    "m\\,\\ddot{\\textbf{x}}=-k\\,\\textbf{x},\n",
    "$$\n",
    "</p>\n",
    "\n",
    "<p style=\"text-align:justify\">\n",
    "donde el término $-k\\,\\textbf{x}$ representa la fuerza restauradora en la oscilación. Generalmente se visualiza el modelo del oscilador lineal como el de un cuerpo de masa $m$ sujeto por un resorte \\emph{ideal} de contante elástica $k$ de modo que el desplazamiento del cuerpo en las vecindades de su punto de equilibrio (P.E.) genera un movimiento oscilatorio cuya ecuación de movimiento viene a ser la _ec._ ([1](#ec001)). Este modelo es el que se muestra en la _fig. ([1](#fig001))_.\n",
    "</p>\n",
    "\n",
    "<center>\n",
    "    <figure>\n",
    "        <img id=\"fig001\" style=\"width:50%\" src=\"fig001.png\" alt=\"Esquema típico de representación de un sistema tipo oscilador lineal.\"/>\n",
    "        <caption>**Figura 1.** Esquema típico de representación de un sistema tipo oscilador lineal.</caption>\n",
    "    </figure>\n",
    "</center>\n",
    "\n",
    "<p style=\"text-align:justify\">\n",
    "Un método clásico de solución para la _ec._ ([1](#ec001)) es el que se muestra a continuación. Considérmos en primer lugar la introducción del parámetro $\\omega$, definido como\n",
    "</p>\n",
    "\n",
    "<p>\n",
    "<span id=\"ec002\" style=\"float:right;\">(2)</span>\n",
    "$$\n",
    "\\omega=\\sqrt{\\frac{k}{m}},\n",
    "$$\n",
    "</p>\n",
    "\n",
    "<p style=\"text-align:justify\">\n",
    "en la _ec._ ([1](#ec001)) con lo cual esta puede expresarse, en una dimensión, como\n",
    "</p>\n",
    "\n",
    "<p>\n",
    "<span id=\"ec003\" style=\"float:right;\">(3)</span>\n",
    "$$\n",
    "\\ddot{x}+{\\omega}^{2}\\,x=0\n",
    "$$\n",
    "</p>\n",
    "\n",
    "<p style=\"text-align:justify\">\n",
    "Nótese que los coeficientes de la _ec._ ([3](#ec003)) son $1$ y $\\omega^2$ que, por ser funciones constantes, son analíticas sobre $\\mathbb{C}$ y por tanto lo son sobre $\\mathbb{R}$. Resulta válido entonces procurar una solución en serie de potencias desarrolladas en torno a la posición de equilibrio que se toma en  $x(t=0)$ de modo que resulta\n",
    "</p>\n",
    "\n",
    "<p>\n",
    "<span id=\"ec004\" style=\"float:right;\">(4)</span>\n",
    "$$\n",
    "x=\\sum_{k=0}^{\\infty}a_{k}\\,t^{k}\n",
    "$$\n",
    "</p>\n",
    "\n",
    "<p style=\"text-align:justify\">\n",
    "De esta forma la primera derivada de $x$ la obtenemos derivando término a término su serie de potencias, así\n",
    "</p>\n",
    "\n",
    "<p>\n",
    "<span id=\"ec005\" style=\"float:right;\">(5)</span>\n",
    "$$\n",
    "\\dot{x}=\n",
    "\\sum_{k=1}^{\\infty}k{a}_{k}\\,t^{k-1}\\quad=\n",
    "\\!\\!\\!\\!\\!\\!\\!\\!\\!\\!\\!{}^{k\\rightarrow k+1}\\,\n",
    "\\sum_{k=0}^{\\infty}(k+1){a}_{k+1}\\,t^{k}.\n",
    "$$\n",
    "</p>\n",
    "\n",
    "<p style=\"text-align:justify\">\n",
    "De forma totalmente análoga llegamos a la segunda derivada como\n",
    "</p>\n",
    "\n",
    "<p>\n",
    "<span id=\"ec006\" style=\"float:right;\">(6)</span>\n",
    "$$\n",
    "\\ddot{x}=\n",
    "\\sum_{k=1}^{\\infty}k(k+1){a}_{k+1}\\,t^{k-1}\\quad=\n",
    "\\!\\!\\!\\!\\!\\!\\!\\!\\!\\!\\!{}^{k\\rightarrow k+1}\\,\n",
    "\\sum_{k=0}^{\\infty}(k+1)(k+2){a}_{k+2}\\,t^{k}.\n",
    "$$\n",
    "</p>\n",
    "\n",
    "<p style=\"text-align:justify\">\n",
    "Reemplazando ([5](#ec005)) y ([6](#ec006)) en ([3](#ec003)) obtenemos la ecuación\n",
    "</p>\n",
    "\n",
    "<p>\n",
    "<span id=\"ec007\" style=\"float:right;\">(7)</span>\n",
    "$$\n",
    "\\sum_{k=0}^{\\infty}(k+1)(k+2){a}_{k+2}\\,t^{k}-{\\omega}^{2}\\left(\\sum_{k=1}^{\\infty}a_{k}\\,t^{k}\\right)=0.\n",
    "$$\n",
    "</p>\n",
    "\n",
    "<p style=\"text-align:justify\">\n",
    "Dado que ([7](#ec007)) es válida para cualquier valor de t, esta ecuación nos conduce a la relación de recurrencia\n",
    "</p>\n",
    "\n",
    "<p>\n",
    "<span id=\"ec008\" style=\"float:right;\">(8)</span>\n",
    "$$\n",
    "(k+2)(k+1)a_{k+2}+\\omega^{2}a_{k}=0.\n",
    "$$\n",
    "</p>\n",
    "\n",
    "<p style=\"text-align:justify\">\n",
    "Si fijamos los valores de los coeficientes $a_0$ y $a_1$ podemos obtener las soluciones de ([8](#ec008)) como\n",
    "</p>\n",
    "\n",
    "<p>\n",
    "<span id=\"ec009\" style=\"float:right;\">(9)</span>\n",
    "$$\n",
    "a_{2n}=\\frac{(-1)^{n}\\omega^{2n}}{(2n)!}a_0,\n",
    "$$\n",
    "</p>\n",
    "\n",
    "<p>\n",
    "<span id=\"ec010\" style=\"float:right;\">(10)</span>\n",
    "$$\n",
    "a_{2n+1}=\\frac{(-1)^n \\omega^{2n}}{(2n+1)!}a_1.\n",
    "$$\n",
    "</p>\n",
    "\n",
    "<p style=\"text-align:justify\">\n",
    "Si reemplazamos ([9](#ec009)) y ([10](#ec010)) en ([4](#ec004)) se obtiene, tras reordenar términos,\n",
    "</p>\n",
    "\n",
    "<p>\n",
    "<span id=\"ec011\" style=\"float:right;\">(11)</span>\n",
    "$$\n",
    "x=a_{0}\\sum_{k=0}^{\\infty}\\frac{(-1)^{n}}{(2n)!}({\\omega}t)^{2n}+\\frac{a_{1}}{\\omega}\\sum_{k=0}^{\\infty}\\frac{(-1)^{n}}{(2n+1)!}({\\omega}t)^{2n+1}\n",
    "$$\n",
    "</p>\n",
    "\n",
    "<p style=\"text-align:justify\">\n",
    "en donde identificamos las series de Taylor de $\\textrm{sen}(\\omega t)$ y $\\textrm{cos}(\\omega t)$ en torno a $0$. Esto último nos permite expresar ([10](#ec010)) como\n",
    "</p>\n",
    "\n",
    "<p>\n",
    "<span id=\"ec012\" style=\"float:right;\">(12)</span>\n",
    "$$\n",
    "x(t)=a_0\\,\\textrm{cos}(\\omega t)+\\frac{a_1}{\\omega}\\,\\textrm{sin}(\\omega t),\n",
    "$$\n",
    "</p>\n",
    "\n",
    "<p style=\"text-align:justify\">\n",
    "que resulta ser la muy conocida solución de la ecuación del oscilador armónico. Evidentemente las constantes $a_0$ y $a_1$ pueden ser determinadas si se imponen las condiciones iniciales sobre el problema.\n",
    "</p>"
   ]
  },
  {
   "cell_type": "markdown",
   "metadata": {},
   "source": []
  },
  {
   "cell_type": "markdown",
   "metadata": {},
   "source": []
  },
  {
   "cell_type": "markdown",
   "metadata": {},
   "source": []
  },
  {
   "cell_type": "markdown",
   "metadata": {},
   "source": []
  },
  {
   "cell_type": "markdown",
   "metadata": {},
   "source": []
  },
  {
   "cell_type": "markdown",
   "metadata": {},
   "source": []
  },
  {
   "cell_type": "markdown",
   "metadata": {},
   "source": []
  },
  {
   "cell_type": "markdown",
   "metadata": {},
   "source": []
  },
  {
   "cell_type": "markdown",
   "metadata": {},
   "source": []
  },
  {
   "cell_type": "markdown",
   "metadata": {},
   "source": []
  },
  {
   "cell_type": "markdown",
   "metadata": {},
   "source": []
  },
  {
   "cell_type": "markdown",
   "metadata": {},
   "source": []
  },
  {
   "cell_type": "markdown",
   "metadata": {},
   "source": []
  },
  {
   "cell_type": "markdown",
   "metadata": {},
   "source": []
  },
  {
   "cell_type": "markdown",
   "metadata": {},
   "source": []
  },
  {
   "cell_type": "code",
   "execution_count": null,
   "metadata": {
    "collapsed": true
   },
   "outputs": [],
   "source": []
  },
  {
   "cell_type": "code",
   "execution_count": null,
   "metadata": {
    "collapsed": true
   },
   "outputs": [],
   "source": []
  },
  {
   "cell_type": "code",
   "execution_count": null,
   "metadata": {
    "collapsed": true
   },
   "outputs": [],
   "source": []
  },
  {
   "cell_type": "code",
   "execution_count": null,
   "metadata": {
    "collapsed": true
   },
   "outputs": [],
   "source": []
  },
  {
   "cell_type": "code",
   "execution_count": null,
   "metadata": {
    "collapsed": true
   },
   "outputs": [],
   "source": []
  },
  {
   "cell_type": "code",
   "execution_count": null,
   "metadata": {
    "collapsed": true
   },
   "outputs": [],
   "source": []
  },
  {
   "cell_type": "code",
   "execution_count": null,
   "metadata": {
    "collapsed": true
   },
   "outputs": [],
   "source": []
  },
  {
   "cell_type": "code",
   "execution_count": null,
   "metadata": {
    "collapsed": true
   },
   "outputs": [],
   "source": []
  },
  {
   "cell_type": "code",
   "execution_count": null,
   "metadata": {
    "collapsed": true
   },
   "outputs": [],
   "source": []
  },
  {
   "cell_type": "code",
   "execution_count": null,
   "metadata": {
    "collapsed": true
   },
   "outputs": [],
   "source": []
  },
  {
   "cell_type": "code",
   "execution_count": null,
   "metadata": {
    "collapsed": true
   },
   "outputs": [],
   "source": []
  },
  {
   "cell_type": "code",
   "execution_count": null,
   "metadata": {
    "collapsed": true
   },
   "outputs": [],
   "source": []
  },
  {
   "cell_type": "code",
   "execution_count": null,
   "metadata": {
    "collapsed": true
   },
   "outputs": [],
   "source": []
  },
  {
   "cell_type": "code",
   "execution_count": null,
   "metadata": {
    "collapsed": true
   },
   "outputs": [],
   "source": []
  },
  {
   "cell_type": "code",
   "execution_count": null,
   "metadata": {
    "collapsed": true
   },
   "outputs": [],
   "source": []
  },
  {
   "cell_type": "code",
   "execution_count": null,
   "metadata": {
    "collapsed": true
   },
   "outputs": [],
   "source": []
  },
  {
   "cell_type": "code",
   "execution_count": null,
   "metadata": {
    "collapsed": true
   },
   "outputs": [],
   "source": []
  },
  {
   "cell_type": "code",
   "execution_count": null,
   "metadata": {
    "collapsed": true
   },
   "outputs": [],
   "source": []
  },
  {
   "cell_type": "code",
   "execution_count": null,
   "metadata": {
    "collapsed": true
   },
   "outputs": [],
   "source": []
  },
  {
   "cell_type": "code",
   "execution_count": null,
   "metadata": {
    "collapsed": true
   },
   "outputs": [],
   "source": []
  },
  {
   "cell_type": "code",
   "execution_count": null,
   "metadata": {
    "collapsed": true
   },
   "outputs": [],
   "source": []
  },
  {
   "cell_type": "code",
   "execution_count": null,
   "metadata": {
    "collapsed": true
   },
   "outputs": [],
   "source": []
  },
  {
   "cell_type": "code",
   "execution_count": null,
   "metadata": {
    "collapsed": true
   },
   "outputs": [],
   "source": []
  },
  {
   "cell_type": "code",
   "execution_count": null,
   "metadata": {
    "collapsed": true
   },
   "outputs": [],
   "source": []
  },
  {
   "cell_type": "code",
   "execution_count": null,
   "metadata": {
    "collapsed": true
   },
   "outputs": [],
   "source": []
  },
  {
   "cell_type": "code",
   "execution_count": null,
   "metadata": {
    "collapsed": true
   },
   "outputs": [],
   "source": []
  },
  {
   "cell_type": "code",
   "execution_count": null,
   "metadata": {
    "collapsed": true
   },
   "outputs": [],
   "source": []
  },
  {
   "cell_type": "code",
   "execution_count": null,
   "metadata": {
    "collapsed": true
   },
   "outputs": [],
   "source": []
  },
  {
   "cell_type": "code",
   "execution_count": null,
   "metadata": {
    "collapsed": true
   },
   "outputs": [],
   "source": []
  },
  {
   "cell_type": "markdown",
   "metadata": {},
   "source": []
  }
 ],
 "metadata": {
  "anaconda-cloud": {},
  "kernelspec": {
   "display_name": "Python [conda env:anaconda]",
   "language": "python",
   "name": "conda-env-anaconda-py"
  },
  "language_info": {
   "codemirror_mode": {
    "name": "ipython",
    "version": 3
   },
   "file_extension": ".py",
   "mimetype": "text/x-python",
   "name": "python",
   "nbconvert_exporter": "python",
   "pygments_lexer": "ipython3",
   "version": "3.5.2"
  }
 },
 "nbformat": 4,
 "nbformat_minor": 2
}
